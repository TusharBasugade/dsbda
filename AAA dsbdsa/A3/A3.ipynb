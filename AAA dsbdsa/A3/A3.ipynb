{
 "cells": [
  {
   "cell_type": "code",
   "execution_count": 129,
   "id": "a2173af7",
   "metadata": {},
   "outputs": [],
   "source": [
    "import pandas as pd"
   ]
  },
  {
   "cell_type": "code",
   "execution_count": 130,
   "id": "b0b50ecf",
   "metadata": {},
   "outputs": [],
   "source": [
    "import numpy as np"
   ]
  },
  {
   "cell_type": "code",
   "execution_count": 131,
   "id": "6c7800df",
   "metadata": {},
   "outputs": [],
   "source": [
    "df=pd.read_csv(\"C://Users//tusha//OneDrive//Desktop//AAA dsbdsa//A3//income_dataset.csv\")"
   ]
  },
  {
   "cell_type": "code",
   "execution_count": 132,
   "id": "3cabe153",
   "metadata": {},
   "outputs": [
    {
     "data": {
      "text/html": [
       "<div>\n",
       "<style scoped>\n",
       "    .dataframe tbody tr th:only-of-type {\n",
       "        vertical-align: middle;\n",
       "    }\n",
       "\n",
       "    .dataframe tbody tr th {\n",
       "        vertical-align: top;\n",
       "    }\n",
       "\n",
       "    .dataframe thead th {\n",
       "        text-align: right;\n",
       "    }\n",
       "</style>\n",
       "<table border=\"1\" class=\"dataframe\">\n",
       "  <thead>\n",
       "    <tr style=\"text-align: right;\">\n",
       "      <th></th>\n",
       "      <th>Age</th>\n",
       "      <th>Income</th>\n",
       "      <th>Occupation</th>\n",
       "      <th>YearsExperience</th>\n",
       "    </tr>\n",
       "  </thead>\n",
       "  <tbody>\n",
       "    <tr>\n",
       "      <th>0</th>\n",
       "      <td>22</td>\n",
       "      <td>82573</td>\n",
       "      <td>Teacher</td>\n",
       "      <td>9</td>\n",
       "    </tr>\n",
       "    <tr>\n",
       "      <th>1</th>\n",
       "      <td>29</td>\n",
       "      <td>25161</td>\n",
       "      <td>Marketing Assistant</td>\n",
       "      <td>9</td>\n",
       "    </tr>\n",
       "    <tr>\n",
       "      <th>2</th>\n",
       "      <td>35</td>\n",
       "      <td>36461</td>\n",
       "      <td>HR</td>\n",
       "      <td>7</td>\n",
       "    </tr>\n",
       "    <tr>\n",
       "      <th>3</th>\n",
       "      <td>34</td>\n",
       "      <td>75260</td>\n",
       "      <td>Doctor</td>\n",
       "      <td>4</td>\n",
       "    </tr>\n",
       "    <tr>\n",
       "      <th>4</th>\n",
       "      <td>25</td>\n",
       "      <td>72361</td>\n",
       "      <td>Engineer</td>\n",
       "      <td>10</td>\n",
       "    </tr>\n",
       "    <tr>\n",
       "      <th>5</th>\n",
       "      <td>30</td>\n",
       "      <td>86277</td>\n",
       "      <td>Software Engineer</td>\n",
       "      <td>10</td>\n",
       "    </tr>\n",
       "    <tr>\n",
       "      <th>6</th>\n",
       "      <td>26</td>\n",
       "      <td>46309</td>\n",
       "      <td>Engineer</td>\n",
       "      <td>8</td>\n",
       "    </tr>\n",
       "    <tr>\n",
       "      <th>7</th>\n",
       "      <td>23</td>\n",
       "      <td>19132</td>\n",
       "      <td>Software Engineer</td>\n",
       "      <td>5</td>\n",
       "    </tr>\n",
       "    <tr>\n",
       "      <th>8</th>\n",
       "      <td>24</td>\n",
       "      <td>67809</td>\n",
       "      <td>Engineer</td>\n",
       "      <td>1</td>\n",
       "    </tr>\n",
       "    <tr>\n",
       "      <th>9</th>\n",
       "      <td>24</td>\n",
       "      <td>82286</td>\n",
       "      <td>Marketing Assistant</td>\n",
       "      <td>7</td>\n",
       "    </tr>\n",
       "    <tr>\n",
       "      <th>10</th>\n",
       "      <td>35</td>\n",
       "      <td>80211</td>\n",
       "      <td>Data Analyst</td>\n",
       "      <td>7</td>\n",
       "    </tr>\n",
       "    <tr>\n",
       "      <th>11</th>\n",
       "      <td>27</td>\n",
       "      <td>13873</td>\n",
       "      <td>Lawyer</td>\n",
       "      <td>1</td>\n",
       "    </tr>\n",
       "    <tr>\n",
       "      <th>12</th>\n",
       "      <td>31</td>\n",
       "      <td>36314</td>\n",
       "      <td>Doctor</td>\n",
       "      <td>3</td>\n",
       "    </tr>\n",
       "    <tr>\n",
       "      <th>13</th>\n",
       "      <td>24</td>\n",
       "      <td>68641</td>\n",
       "      <td>Teacher</td>\n",
       "      <td>6</td>\n",
       "    </tr>\n",
       "    <tr>\n",
       "      <th>14</th>\n",
       "      <td>25</td>\n",
       "      <td>50876</td>\n",
       "      <td>Lawyer</td>\n",
       "      <td>4</td>\n",
       "    </tr>\n",
       "    <tr>\n",
       "      <th>15</th>\n",
       "      <td>26</td>\n",
       "      <td>37351</td>\n",
       "      <td>Marketing Assistant</td>\n",
       "      <td>2</td>\n",
       "    </tr>\n",
       "    <tr>\n",
       "      <th>16</th>\n",
       "      <td>28</td>\n",
       "      <td>81656</td>\n",
       "      <td>Engineer</td>\n",
       "      <td>2</td>\n",
       "    </tr>\n",
       "    <tr>\n",
       "      <th>17</th>\n",
       "      <td>32</td>\n",
       "      <td>83103</td>\n",
       "      <td>Teacher</td>\n",
       "      <td>7</td>\n",
       "    </tr>\n",
       "    <tr>\n",
       "      <th>18</th>\n",
       "      <td>30</td>\n",
       "      <td>57821</td>\n",
       "      <td>Doctor</td>\n",
       "      <td>4</td>\n",
       "    </tr>\n",
       "    <tr>\n",
       "      <th>19</th>\n",
       "      <td>31</td>\n",
       "      <td>49583</td>\n",
       "      <td>Teacher</td>\n",
       "      <td>3</td>\n",
       "    </tr>\n",
       "    <tr>\n",
       "      <th>20</th>\n",
       "      <td>33</td>\n",
       "      <td>85915</td>\n",
       "      <td>Engineer</td>\n",
       "      <td>2</td>\n",
       "    </tr>\n",
       "    <tr>\n",
       "      <th>21</th>\n",
       "      <td>34</td>\n",
       "      <td>58930</td>\n",
       "      <td>Engineer</td>\n",
       "      <td>2</td>\n",
       "    </tr>\n",
       "    <tr>\n",
       "      <th>22</th>\n",
       "      <td>24</td>\n",
       "      <td>54323</td>\n",
       "      <td>Data Analyst</td>\n",
       "      <td>1</td>\n",
       "    </tr>\n",
       "    <tr>\n",
       "      <th>23</th>\n",
       "      <td>30</td>\n",
       "      <td>40579</td>\n",
       "      <td>Software Engineer</td>\n",
       "      <td>6</td>\n",
       "    </tr>\n",
       "    <tr>\n",
       "      <th>24</th>\n",
       "      <td>35</td>\n",
       "      <td>19177</td>\n",
       "      <td>HR</td>\n",
       "      <td>8</td>\n",
       "    </tr>\n",
       "    <tr>\n",
       "      <th>25</th>\n",
       "      <td>28</td>\n",
       "      <td>76636</td>\n",
       "      <td>Data Analyst</td>\n",
       "      <td>8</td>\n",
       "    </tr>\n",
       "    <tr>\n",
       "      <th>26</th>\n",
       "      <td>31</td>\n",
       "      <td>74714</td>\n",
       "      <td>Teacher</td>\n",
       "      <td>2</td>\n",
       "    </tr>\n",
       "    <tr>\n",
       "      <th>27</th>\n",
       "      <td>23</td>\n",
       "      <td>78153</td>\n",
       "      <td>Engineer</td>\n",
       "      <td>6</td>\n",
       "    </tr>\n",
       "    <tr>\n",
       "      <th>28</th>\n",
       "      <td>33</td>\n",
       "      <td>77046</td>\n",
       "      <td>HR</td>\n",
       "      <td>9</td>\n",
       "    </tr>\n",
       "  </tbody>\n",
       "</table>\n",
       "</div>"
      ],
      "text/plain": [
       "    Age  Income            Occupation  YearsExperience\n",
       "0    22   82573               Teacher                9\n",
       "1    29   25161  Marketing Assistant                 9\n",
       "2    35   36461                    HR                7\n",
       "3    34   75260                Doctor                4\n",
       "4    25   72361              Engineer               10\n",
       "5    30   86277     Software Engineer               10\n",
       "6    26   46309              Engineer                8\n",
       "7    23   19132     Software Engineer                5\n",
       "8    24   67809              Engineer                1\n",
       "9    24   82286  Marketing Assistant                 7\n",
       "10   35   80211          Data Analyst                7\n",
       "11   27   13873                Lawyer                1\n",
       "12   31   36314                Doctor                3\n",
       "13   24   68641               Teacher                6\n",
       "14   25   50876                Lawyer                4\n",
       "15   26   37351  Marketing Assistant                 2\n",
       "16   28   81656              Engineer                2\n",
       "17   32   83103               Teacher                7\n",
       "18   30   57821                Doctor                4\n",
       "19   31   49583               Teacher                3\n",
       "20   33   85915              Engineer                2\n",
       "21   34   58930              Engineer                2\n",
       "22   24   54323          Data Analyst                1\n",
       "23   30   40579     Software Engineer                6\n",
       "24   35   19177                    HR                8\n",
       "25   28   76636          Data Analyst                8\n",
       "26   31   74714               Teacher                2\n",
       "27   23   78153              Engineer                6\n",
       "28   33   77046                    HR                9"
      ]
     },
     "execution_count": 132,
     "metadata": {},
     "output_type": "execute_result"
    }
   ],
   "source": [
    "df"
   ]
  },
  {
   "cell_type": "code",
   "execution_count": 133,
   "id": "f5bb742e",
   "metadata": {},
   "outputs": [
    {
     "data": {
      "text/html": [
       "<div>\n",
       "<style scoped>\n",
       "    .dataframe tbody tr th:only-of-type {\n",
       "        vertical-align: middle;\n",
       "    }\n",
       "\n",
       "    .dataframe tbody tr th {\n",
       "        vertical-align: top;\n",
       "    }\n",
       "\n",
       "    .dataframe thead th {\n",
       "        text-align: right;\n",
       "    }\n",
       "</style>\n",
       "<table border=\"1\" class=\"dataframe\">\n",
       "  <thead>\n",
       "    <tr style=\"text-align: right;\">\n",
       "      <th></th>\n",
       "      <th>Age</th>\n",
       "      <th>Income</th>\n",
       "      <th>Occupation</th>\n",
       "      <th>YearsExperience</th>\n",
       "    </tr>\n",
       "  </thead>\n",
       "  <tbody>\n",
       "    <tr>\n",
       "      <th>0</th>\n",
       "      <td>22</td>\n",
       "      <td>82573</td>\n",
       "      <td>Teacher</td>\n",
       "      <td>9</td>\n",
       "    </tr>\n",
       "    <tr>\n",
       "      <th>1</th>\n",
       "      <td>29</td>\n",
       "      <td>25161</td>\n",
       "      <td>Marketing Assistant</td>\n",
       "      <td>9</td>\n",
       "    </tr>\n",
       "    <tr>\n",
       "      <th>2</th>\n",
       "      <td>35</td>\n",
       "      <td>36461</td>\n",
       "      <td>HR</td>\n",
       "      <td>7</td>\n",
       "    </tr>\n",
       "    <tr>\n",
       "      <th>3</th>\n",
       "      <td>34</td>\n",
       "      <td>75260</td>\n",
       "      <td>Doctor</td>\n",
       "      <td>4</td>\n",
       "    </tr>\n",
       "    <tr>\n",
       "      <th>4</th>\n",
       "      <td>25</td>\n",
       "      <td>72361</td>\n",
       "      <td>Engineer</td>\n",
       "      <td>10</td>\n",
       "    </tr>\n",
       "  </tbody>\n",
       "</table>\n",
       "</div>"
      ],
      "text/plain": [
       "   Age  Income            Occupation  YearsExperience\n",
       "0   22   82573               Teacher                9\n",
       "1   29   25161  Marketing Assistant                 9\n",
       "2   35   36461                    HR                7\n",
       "3   34   75260                Doctor                4\n",
       "4   25   72361              Engineer               10"
      ]
     },
     "execution_count": 133,
     "metadata": {},
     "output_type": "execute_result"
    }
   ],
   "source": [
    "df.head()"
   ]
  },
  {
   "cell_type": "code",
   "execution_count": 134,
   "id": "e731dc4e",
   "metadata": {},
   "outputs": [
    {
     "data": {
      "text/html": [
       "<div>\n",
       "<style scoped>\n",
       "    .dataframe tbody tr th:only-of-type {\n",
       "        vertical-align: middle;\n",
       "    }\n",
       "\n",
       "    .dataframe tbody tr th {\n",
       "        vertical-align: top;\n",
       "    }\n",
       "\n",
       "    .dataframe thead th {\n",
       "        text-align: right;\n",
       "    }\n",
       "</style>\n",
       "<table border=\"1\" class=\"dataframe\">\n",
       "  <thead>\n",
       "    <tr style=\"text-align: right;\">\n",
       "      <th></th>\n",
       "      <th>Age</th>\n",
       "      <th>Income</th>\n",
       "      <th>Occupation</th>\n",
       "      <th>YearsExperience</th>\n",
       "    </tr>\n",
       "  </thead>\n",
       "  <tbody>\n",
       "    <tr>\n",
       "      <th>24</th>\n",
       "      <td>35</td>\n",
       "      <td>19177</td>\n",
       "      <td>HR</td>\n",
       "      <td>8</td>\n",
       "    </tr>\n",
       "    <tr>\n",
       "      <th>25</th>\n",
       "      <td>28</td>\n",
       "      <td>76636</td>\n",
       "      <td>Data Analyst</td>\n",
       "      <td>8</td>\n",
       "    </tr>\n",
       "    <tr>\n",
       "      <th>26</th>\n",
       "      <td>31</td>\n",
       "      <td>74714</td>\n",
       "      <td>Teacher</td>\n",
       "      <td>2</td>\n",
       "    </tr>\n",
       "    <tr>\n",
       "      <th>27</th>\n",
       "      <td>23</td>\n",
       "      <td>78153</td>\n",
       "      <td>Engineer</td>\n",
       "      <td>6</td>\n",
       "    </tr>\n",
       "    <tr>\n",
       "      <th>28</th>\n",
       "      <td>33</td>\n",
       "      <td>77046</td>\n",
       "      <td>HR</td>\n",
       "      <td>9</td>\n",
       "    </tr>\n",
       "  </tbody>\n",
       "</table>\n",
       "</div>"
      ],
      "text/plain": [
       "    Age  Income    Occupation  YearsExperience\n",
       "24   35   19177            HR                8\n",
       "25   28   76636  Data Analyst                8\n",
       "26   31   74714       Teacher                2\n",
       "27   23   78153      Engineer                6\n",
       "28   33   77046            HR                9"
      ]
     },
     "execution_count": 134,
     "metadata": {},
     "output_type": "execute_result"
    }
   ],
   "source": [
    "df.tail()"
   ]
  },
  {
   "cell_type": "code",
   "execution_count": 135,
   "id": "f436c7e7",
   "metadata": {},
   "outputs": [
    {
     "data": {
      "text/html": [
       "<div>\n",
       "<style scoped>\n",
       "    .dataframe tbody tr th:only-of-type {\n",
       "        vertical-align: middle;\n",
       "    }\n",
       "\n",
       "    .dataframe tbody tr th {\n",
       "        vertical-align: top;\n",
       "    }\n",
       "\n",
       "    .dataframe thead th {\n",
       "        text-align: right;\n",
       "    }\n",
       "</style>\n",
       "<table border=\"1\" class=\"dataframe\">\n",
       "  <thead>\n",
       "    <tr style=\"text-align: right;\">\n",
       "      <th></th>\n",
       "      <th>Age</th>\n",
       "      <th>Income</th>\n",
       "      <th>Occupation</th>\n",
       "      <th>YearsExperience</th>\n",
       "    </tr>\n",
       "  </thead>\n",
       "  <tbody>\n",
       "    <tr>\n",
       "      <th>count</th>\n",
       "      <td>29.000000</td>\n",
       "      <td>29.000000</td>\n",
       "      <td>29</td>\n",
       "      <td>29.000000</td>\n",
       "    </tr>\n",
       "    <tr>\n",
       "      <th>unique</th>\n",
       "      <td>NaN</td>\n",
       "      <td>NaN</td>\n",
       "      <td>8</td>\n",
       "      <td>NaN</td>\n",
       "    </tr>\n",
       "    <tr>\n",
       "      <th>top</th>\n",
       "      <td>NaN</td>\n",
       "      <td>NaN</td>\n",
       "      <td>Engineer</td>\n",
       "      <td>NaN</td>\n",
       "    </tr>\n",
       "    <tr>\n",
       "      <th>freq</th>\n",
       "      <td>NaN</td>\n",
       "      <td>NaN</td>\n",
       "      <td>7</td>\n",
       "      <td>NaN</td>\n",
       "    </tr>\n",
       "    <tr>\n",
       "      <th>mean</th>\n",
       "      <td>28.689655</td>\n",
       "      <td>59259.689655</td>\n",
       "      <td>NaN</td>\n",
       "      <td>5.275862</td>\n",
       "    </tr>\n",
       "    <tr>\n",
       "      <th>std</th>\n",
       "      <td>4.175639</td>\n",
       "      <td>22755.703602</td>\n",
       "      <td>NaN</td>\n",
       "      <td>2.962824</td>\n",
       "    </tr>\n",
       "    <tr>\n",
       "      <th>min</th>\n",
       "      <td>22.000000</td>\n",
       "      <td>13873.000000</td>\n",
       "      <td>NaN</td>\n",
       "      <td>1.000000</td>\n",
       "    </tr>\n",
       "    <tr>\n",
       "      <th>25%</th>\n",
       "      <td>25.000000</td>\n",
       "      <td>40579.000000</td>\n",
       "      <td>NaN</td>\n",
       "      <td>2.000000</td>\n",
       "    </tr>\n",
       "    <tr>\n",
       "      <th>50%</th>\n",
       "      <td>29.000000</td>\n",
       "      <td>67809.000000</td>\n",
       "      <td>NaN</td>\n",
       "      <td>6.000000</td>\n",
       "    </tr>\n",
       "    <tr>\n",
       "      <th>75%</th>\n",
       "      <td>32.000000</td>\n",
       "      <td>78153.000000</td>\n",
       "      <td>NaN</td>\n",
       "      <td>8.000000</td>\n",
       "    </tr>\n",
       "    <tr>\n",
       "      <th>max</th>\n",
       "      <td>35.000000</td>\n",
       "      <td>86277.000000</td>\n",
       "      <td>NaN</td>\n",
       "      <td>10.000000</td>\n",
       "    </tr>\n",
       "  </tbody>\n",
       "</table>\n",
       "</div>"
      ],
      "text/plain": [
       "              Age        Income Occupation  YearsExperience\n",
       "count   29.000000     29.000000         29        29.000000\n",
       "unique        NaN           NaN          8              NaN\n",
       "top           NaN           NaN   Engineer              NaN\n",
       "freq          NaN           NaN          7              NaN\n",
       "mean    28.689655  59259.689655        NaN         5.275862\n",
       "std      4.175639  22755.703602        NaN         2.962824\n",
       "min     22.000000  13873.000000        NaN         1.000000\n",
       "25%     25.000000  40579.000000        NaN         2.000000\n",
       "50%     29.000000  67809.000000        NaN         6.000000\n",
       "75%     32.000000  78153.000000        NaN         8.000000\n",
       "max     35.000000  86277.000000        NaN        10.000000"
      ]
     },
     "execution_count": 135,
     "metadata": {},
     "output_type": "execute_result"
    }
   ],
   "source": [
    "df.describe(include=\"all\")"
   ]
  },
  {
   "cell_type": "code",
   "execution_count": 136,
   "id": "5223d143",
   "metadata": {},
   "outputs": [
    {
     "data": {
      "text/plain": [
       "(29, 4)"
      ]
     },
     "execution_count": 136,
     "metadata": {},
     "output_type": "execute_result"
    }
   ],
   "source": [
    "df.shape\n"
   ]
  },
  {
   "cell_type": "code",
   "execution_count": 137,
   "id": "1a9d79b6",
   "metadata": {},
   "outputs": [
    {
     "data": {
      "text/html": [
       "<div>\n",
       "<style scoped>\n",
       "    .dataframe tbody tr th:only-of-type {\n",
       "        vertical-align: middle;\n",
       "    }\n",
       "\n",
       "    .dataframe tbody tr th {\n",
       "        vertical-align: top;\n",
       "    }\n",
       "\n",
       "    .dataframe thead th {\n",
       "        text-align: right;\n",
       "    }\n",
       "</style>\n",
       "<table border=\"1\" class=\"dataframe\">\n",
       "  <thead>\n",
       "    <tr style=\"text-align: right;\">\n",
       "      <th></th>\n",
       "      <th>Age</th>\n",
       "      <th>Income</th>\n",
       "      <th>Occupation</th>\n",
       "      <th>YearsExperience</th>\n",
       "    </tr>\n",
       "  </thead>\n",
       "  <tbody>\n",
       "    <tr>\n",
       "      <th>0</th>\n",
       "      <td>22</td>\n",
       "      <td>82573</td>\n",
       "      <td>Teacher</td>\n",
       "      <td>9</td>\n",
       "    </tr>\n",
       "    <tr>\n",
       "      <th>1</th>\n",
       "      <td>29</td>\n",
       "      <td>25161</td>\n",
       "      <td>Marketing Assistant</td>\n",
       "      <td>9</td>\n",
       "    </tr>\n",
       "    <tr>\n",
       "      <th>2</th>\n",
       "      <td>35</td>\n",
       "      <td>36461</td>\n",
       "      <td>HR</td>\n",
       "      <td>7</td>\n",
       "    </tr>\n",
       "  </tbody>\n",
       "</table>\n",
       "</div>"
      ],
      "text/plain": [
       "   Age  Income            Occupation  YearsExperience\n",
       "0   22   82573               Teacher                9\n",
       "1   29   25161  Marketing Assistant                 9\n",
       "2   35   36461                    HR                7"
      ]
     },
     "execution_count": 137,
     "metadata": {},
     "output_type": "execute_result"
    }
   ],
   "source": [
    "df[0:3]"
   ]
  },
  {
   "cell_type": "code",
   "execution_count": 138,
   "id": "d4c1ae7e",
   "metadata": {},
   "outputs": [
    {
     "data": {
      "text/html": [
       "<div>\n",
       "<style scoped>\n",
       "    .dataframe tbody tr th:only-of-type {\n",
       "        vertical-align: middle;\n",
       "    }\n",
       "\n",
       "    .dataframe tbody tr th {\n",
       "        vertical-align: top;\n",
       "    }\n",
       "\n",
       "    .dataframe thead th {\n",
       "        text-align: right;\n",
       "    }\n",
       "</style>\n",
       "<table border=\"1\" class=\"dataframe\">\n",
       "  <thead>\n",
       "    <tr style=\"text-align: right;\">\n",
       "      <th></th>\n",
       "      <th>Age</th>\n",
       "      <th>Income</th>\n",
       "      <th>Occupation</th>\n",
       "      <th>YearsExperience</th>\n",
       "    </tr>\n",
       "  </thead>\n",
       "  <tbody>\n",
       "    <tr>\n",
       "      <th>0</th>\n",
       "      <td>22</td>\n",
       "      <td>82573</td>\n",
       "      <td>Teacher</td>\n",
       "      <td>9</td>\n",
       "    </tr>\n",
       "    <tr>\n",
       "      <th>1</th>\n",
       "      <td>29</td>\n",
       "      <td>25161</td>\n",
       "      <td>Marketing Assistant</td>\n",
       "      <td>9</td>\n",
       "    </tr>\n",
       "    <tr>\n",
       "      <th>2</th>\n",
       "      <td>35</td>\n",
       "      <td>36461</td>\n",
       "      <td>HR</td>\n",
       "      <td>7</td>\n",
       "    </tr>\n",
       "  </tbody>\n",
       "</table>\n",
       "</div>"
      ],
      "text/plain": [
       "   Age  Income            Occupation  YearsExperience\n",
       "0   22   82573               Teacher                9\n",
       "1   29   25161  Marketing Assistant                 9\n",
       "2   35   36461                    HR                7"
      ]
     },
     "execution_count": 138,
     "metadata": {},
     "output_type": "execute_result"
    }
   ],
   "source": [
    " df.loc[0:2]\n"
   ]
  },
  {
   "cell_type": "code",
   "execution_count": 139,
   "id": "01e5a46e",
   "metadata": {},
   "outputs": [
    {
     "data": {
      "text/html": [
       "<div>\n",
       "<style scoped>\n",
       "    .dataframe tbody tr th:only-of-type {\n",
       "        vertical-align: middle;\n",
       "    }\n",
       "\n",
       "    .dataframe tbody tr th {\n",
       "        vertical-align: top;\n",
       "    }\n",
       "\n",
       "    .dataframe thead th {\n",
       "        text-align: right;\n",
       "    }\n",
       "</style>\n",
       "<table border=\"1\" class=\"dataframe\">\n",
       "  <thead>\n",
       "    <tr style=\"text-align: right;\">\n",
       "      <th></th>\n",
       "      <th>Age</th>\n",
       "      <th>Income</th>\n",
       "      <th>Occupation</th>\n",
       "      <th>YearsExperience</th>\n",
       "    </tr>\n",
       "  </thead>\n",
       "  <tbody>\n",
       "    <tr>\n",
       "      <th>1</th>\n",
       "      <td>29</td>\n",
       "      <td>25161</td>\n",
       "      <td>Marketing Assistant</td>\n",
       "      <td>9</td>\n",
       "    </tr>\n",
       "    <tr>\n",
       "      <th>2</th>\n",
       "      <td>35</td>\n",
       "      <td>36461</td>\n",
       "      <td>HR</td>\n",
       "      <td>7</td>\n",
       "    </tr>\n",
       "  </tbody>\n",
       "</table>\n",
       "</div>"
      ],
      "text/plain": [
       "   Age  Income            Occupation  YearsExperience\n",
       "1   29   25161  Marketing Assistant                 9\n",
       "2   35   36461                    HR                7"
      ]
     },
     "execution_count": 139,
     "metadata": {},
     "output_type": "execute_result"
    }
   ],
   "source": [
    " df.iloc[1:3]\n"
   ]
  },
  {
   "cell_type": "code",
   "execution_count": 140,
   "id": "9937ba57",
   "metadata": {},
   "outputs": [
    {
     "data": {
      "text/html": [
       "<div>\n",
       "<style scoped>\n",
       "    .dataframe tbody tr th:only-of-type {\n",
       "        vertical-align: middle;\n",
       "    }\n",
       "\n",
       "    .dataframe tbody tr th {\n",
       "        vertical-align: top;\n",
       "    }\n",
       "\n",
       "    .dataframe thead th {\n",
       "        text-align: right;\n",
       "    }\n",
       "</style>\n",
       "<table border=\"1\" class=\"dataframe\">\n",
       "  <thead>\n",
       "    <tr style=\"text-align: right;\">\n",
       "      <th></th>\n",
       "      <th>Occupation</th>\n",
       "      <th>YearsExperience</th>\n",
       "    </tr>\n",
       "  </thead>\n",
       "  <tbody>\n",
       "    <tr>\n",
       "      <th>2</th>\n",
       "      <td>HR</td>\n",
       "      <td>7</td>\n",
       "    </tr>\n",
       "    <tr>\n",
       "      <th>3</th>\n",
       "      <td>Doctor</td>\n",
       "      <td>4</td>\n",
       "    </tr>\n",
       "    <tr>\n",
       "      <th>4</th>\n",
       "      <td>Engineer</td>\n",
       "      <td>10</td>\n",
       "    </tr>\n",
       "    <tr>\n",
       "      <th>5</th>\n",
       "      <td>Software Engineer</td>\n",
       "      <td>10</td>\n",
       "    </tr>\n",
       "  </tbody>\n",
       "</table>\n",
       "</div>"
      ],
      "text/plain": [
       "          Occupation  YearsExperience\n",
       "2                 HR                7\n",
       "3             Doctor                4\n",
       "4           Engineer               10\n",
       "5  Software Engineer               10"
      ]
     },
     "execution_count": 140,
     "metadata": {},
     "output_type": "execute_result"
    }
   ],
   "source": [
    " df.iloc[2:6,2:6]\n"
   ]
  },
  {
   "cell_type": "code",
   "execution_count": 141,
   "id": "1f80c4b4",
   "metadata": {},
   "outputs": [
    {
     "data": {
      "text/html": [
       "<div>\n",
       "<style scoped>\n",
       "    .dataframe tbody tr th:only-of-type {\n",
       "        vertical-align: middle;\n",
       "    }\n",
       "\n",
       "    .dataframe tbody tr th {\n",
       "        vertical-align: top;\n",
       "    }\n",
       "\n",
       "    .dataframe thead th {\n",
       "        text-align: right;\n",
       "    }\n",
       "</style>\n",
       "<table border=\"1\" class=\"dataframe\">\n",
       "  <thead>\n",
       "    <tr style=\"text-align: right;\">\n",
       "      <th></th>\n",
       "      <th>Age</th>\n",
       "      <th>Income</th>\n",
       "      <th>Occupation</th>\n",
       "      <th>YearsExperience</th>\n",
       "    </tr>\n",
       "  </thead>\n",
       "  <tbody>\n",
       "    <tr>\n",
       "      <th>0</th>\n",
       "      <td>False</td>\n",
       "      <td>False</td>\n",
       "      <td>False</td>\n",
       "      <td>False</td>\n",
       "    </tr>\n",
       "    <tr>\n",
       "      <th>1</th>\n",
       "      <td>False</td>\n",
       "      <td>False</td>\n",
       "      <td>False</td>\n",
       "      <td>False</td>\n",
       "    </tr>\n",
       "    <tr>\n",
       "      <th>2</th>\n",
       "      <td>False</td>\n",
       "      <td>False</td>\n",
       "      <td>False</td>\n",
       "      <td>False</td>\n",
       "    </tr>\n",
       "    <tr>\n",
       "      <th>3</th>\n",
       "      <td>False</td>\n",
       "      <td>False</td>\n",
       "      <td>False</td>\n",
       "      <td>False</td>\n",
       "    </tr>\n",
       "    <tr>\n",
       "      <th>4</th>\n",
       "      <td>False</td>\n",
       "      <td>False</td>\n",
       "      <td>False</td>\n",
       "      <td>False</td>\n",
       "    </tr>\n",
       "    <tr>\n",
       "      <th>5</th>\n",
       "      <td>False</td>\n",
       "      <td>False</td>\n",
       "      <td>False</td>\n",
       "      <td>False</td>\n",
       "    </tr>\n",
       "    <tr>\n",
       "      <th>6</th>\n",
       "      <td>False</td>\n",
       "      <td>False</td>\n",
       "      <td>False</td>\n",
       "      <td>False</td>\n",
       "    </tr>\n",
       "    <tr>\n",
       "      <th>7</th>\n",
       "      <td>False</td>\n",
       "      <td>False</td>\n",
       "      <td>False</td>\n",
       "      <td>False</td>\n",
       "    </tr>\n",
       "    <tr>\n",
       "      <th>8</th>\n",
       "      <td>False</td>\n",
       "      <td>False</td>\n",
       "      <td>False</td>\n",
       "      <td>False</td>\n",
       "    </tr>\n",
       "    <tr>\n",
       "      <th>9</th>\n",
       "      <td>False</td>\n",
       "      <td>False</td>\n",
       "      <td>False</td>\n",
       "      <td>False</td>\n",
       "    </tr>\n",
       "    <tr>\n",
       "      <th>10</th>\n",
       "      <td>False</td>\n",
       "      <td>False</td>\n",
       "      <td>False</td>\n",
       "      <td>False</td>\n",
       "    </tr>\n",
       "    <tr>\n",
       "      <th>11</th>\n",
       "      <td>False</td>\n",
       "      <td>False</td>\n",
       "      <td>False</td>\n",
       "      <td>False</td>\n",
       "    </tr>\n",
       "    <tr>\n",
       "      <th>12</th>\n",
       "      <td>False</td>\n",
       "      <td>False</td>\n",
       "      <td>False</td>\n",
       "      <td>False</td>\n",
       "    </tr>\n",
       "    <tr>\n",
       "      <th>13</th>\n",
       "      <td>False</td>\n",
       "      <td>False</td>\n",
       "      <td>False</td>\n",
       "      <td>False</td>\n",
       "    </tr>\n",
       "    <tr>\n",
       "      <th>14</th>\n",
       "      <td>False</td>\n",
       "      <td>False</td>\n",
       "      <td>False</td>\n",
       "      <td>False</td>\n",
       "    </tr>\n",
       "    <tr>\n",
       "      <th>15</th>\n",
       "      <td>False</td>\n",
       "      <td>False</td>\n",
       "      <td>False</td>\n",
       "      <td>False</td>\n",
       "    </tr>\n",
       "    <tr>\n",
       "      <th>16</th>\n",
       "      <td>False</td>\n",
       "      <td>False</td>\n",
       "      <td>False</td>\n",
       "      <td>False</td>\n",
       "    </tr>\n",
       "    <tr>\n",
       "      <th>17</th>\n",
       "      <td>False</td>\n",
       "      <td>False</td>\n",
       "      <td>False</td>\n",
       "      <td>False</td>\n",
       "    </tr>\n",
       "    <tr>\n",
       "      <th>18</th>\n",
       "      <td>False</td>\n",
       "      <td>False</td>\n",
       "      <td>False</td>\n",
       "      <td>False</td>\n",
       "    </tr>\n",
       "    <tr>\n",
       "      <th>19</th>\n",
       "      <td>False</td>\n",
       "      <td>False</td>\n",
       "      <td>False</td>\n",
       "      <td>False</td>\n",
       "    </tr>\n",
       "    <tr>\n",
       "      <th>20</th>\n",
       "      <td>False</td>\n",
       "      <td>False</td>\n",
       "      <td>False</td>\n",
       "      <td>False</td>\n",
       "    </tr>\n",
       "    <tr>\n",
       "      <th>21</th>\n",
       "      <td>False</td>\n",
       "      <td>False</td>\n",
       "      <td>False</td>\n",
       "      <td>False</td>\n",
       "    </tr>\n",
       "    <tr>\n",
       "      <th>22</th>\n",
       "      <td>False</td>\n",
       "      <td>False</td>\n",
       "      <td>False</td>\n",
       "      <td>False</td>\n",
       "    </tr>\n",
       "    <tr>\n",
       "      <th>23</th>\n",
       "      <td>False</td>\n",
       "      <td>False</td>\n",
       "      <td>False</td>\n",
       "      <td>False</td>\n",
       "    </tr>\n",
       "    <tr>\n",
       "      <th>24</th>\n",
       "      <td>False</td>\n",
       "      <td>False</td>\n",
       "      <td>False</td>\n",
       "      <td>False</td>\n",
       "    </tr>\n",
       "    <tr>\n",
       "      <th>25</th>\n",
       "      <td>False</td>\n",
       "      <td>False</td>\n",
       "      <td>False</td>\n",
       "      <td>False</td>\n",
       "    </tr>\n",
       "    <tr>\n",
       "      <th>26</th>\n",
       "      <td>False</td>\n",
       "      <td>False</td>\n",
       "      <td>False</td>\n",
       "      <td>False</td>\n",
       "    </tr>\n",
       "    <tr>\n",
       "      <th>27</th>\n",
       "      <td>False</td>\n",
       "      <td>False</td>\n",
       "      <td>False</td>\n",
       "      <td>False</td>\n",
       "    </tr>\n",
       "    <tr>\n",
       "      <th>28</th>\n",
       "      <td>False</td>\n",
       "      <td>False</td>\n",
       "      <td>False</td>\n",
       "      <td>False</td>\n",
       "    </tr>\n",
       "  </tbody>\n",
       "</table>\n",
       "</div>"
      ],
      "text/plain": [
       "      Age  Income  Occupation  YearsExperience\n",
       "0   False   False       False            False\n",
       "1   False   False       False            False\n",
       "2   False   False       False            False\n",
       "3   False   False       False            False\n",
       "4   False   False       False            False\n",
       "5   False   False       False            False\n",
       "6   False   False       False            False\n",
       "7   False   False       False            False\n",
       "8   False   False       False            False\n",
       "9   False   False       False            False\n",
       "10  False   False       False            False\n",
       "11  False   False       False            False\n",
       "12  False   False       False            False\n",
       "13  False   False       False            False\n",
       "14  False   False       False            False\n",
       "15  False   False       False            False\n",
       "16  False   False       False            False\n",
       "17  False   False       False            False\n",
       "18  False   False       False            False\n",
       "19  False   False       False            False\n",
       "20  False   False       False            False\n",
       "21  False   False       False            False\n",
       "22  False   False       False            False\n",
       "23  False   False       False            False\n",
       "24  False   False       False            False\n",
       "25  False   False       False            False\n",
       "26  False   False       False            False\n",
       "27  False   False       False            False\n",
       "28  False   False       False            False"
      ]
     },
     "execution_count": 141,
     "metadata": {},
     "output_type": "execute_result"
    }
   ],
   "source": [
    "df.isnull()"
   ]
  },
  {
   "cell_type": "code",
   "execution_count": 142,
   "id": "a922a71e",
   "metadata": {},
   "outputs": [
    {
     "data": {
      "text/html": [
       "<div>\n",
       "<style scoped>\n",
       "    .dataframe tbody tr th:only-of-type {\n",
       "        vertical-align: middle;\n",
       "    }\n",
       "\n",
       "    .dataframe tbody tr th {\n",
       "        vertical-align: top;\n",
       "    }\n",
       "\n",
       "    .dataframe thead th {\n",
       "        text-align: right;\n",
       "    }\n",
       "</style>\n",
       "<table border=\"1\" class=\"dataframe\">\n",
       "  <thead>\n",
       "    <tr style=\"text-align: right;\">\n",
       "      <th></th>\n",
       "      <th>Age</th>\n",
       "      <th>Income</th>\n",
       "      <th>Occupation</th>\n",
       "      <th>YearsExperience</th>\n",
       "    </tr>\n",
       "  </thead>\n",
       "  <tbody>\n",
       "    <tr>\n",
       "      <th>0</th>\n",
       "      <td>False</td>\n",
       "      <td>False</td>\n",
       "      <td>False</td>\n",
       "      <td>False</td>\n",
       "    </tr>\n",
       "    <tr>\n",
       "      <th>1</th>\n",
       "      <td>False</td>\n",
       "      <td>False</td>\n",
       "      <td>False</td>\n",
       "      <td>False</td>\n",
       "    </tr>\n",
       "    <tr>\n",
       "      <th>2</th>\n",
       "      <td>False</td>\n",
       "      <td>False</td>\n",
       "      <td>False</td>\n",
       "      <td>False</td>\n",
       "    </tr>\n",
       "    <tr>\n",
       "      <th>3</th>\n",
       "      <td>False</td>\n",
       "      <td>False</td>\n",
       "      <td>False</td>\n",
       "      <td>False</td>\n",
       "    </tr>\n",
       "    <tr>\n",
       "      <th>4</th>\n",
       "      <td>False</td>\n",
       "      <td>False</td>\n",
       "      <td>False</td>\n",
       "      <td>False</td>\n",
       "    </tr>\n",
       "    <tr>\n",
       "      <th>5</th>\n",
       "      <td>False</td>\n",
       "      <td>False</td>\n",
       "      <td>False</td>\n",
       "      <td>False</td>\n",
       "    </tr>\n",
       "    <tr>\n",
       "      <th>6</th>\n",
       "      <td>False</td>\n",
       "      <td>False</td>\n",
       "      <td>False</td>\n",
       "      <td>False</td>\n",
       "    </tr>\n",
       "    <tr>\n",
       "      <th>7</th>\n",
       "      <td>False</td>\n",
       "      <td>False</td>\n",
       "      <td>False</td>\n",
       "      <td>False</td>\n",
       "    </tr>\n",
       "    <tr>\n",
       "      <th>8</th>\n",
       "      <td>False</td>\n",
       "      <td>False</td>\n",
       "      <td>False</td>\n",
       "      <td>False</td>\n",
       "    </tr>\n",
       "    <tr>\n",
       "      <th>9</th>\n",
       "      <td>False</td>\n",
       "      <td>False</td>\n",
       "      <td>False</td>\n",
       "      <td>False</td>\n",
       "    </tr>\n",
       "    <tr>\n",
       "      <th>10</th>\n",
       "      <td>False</td>\n",
       "      <td>False</td>\n",
       "      <td>False</td>\n",
       "      <td>False</td>\n",
       "    </tr>\n",
       "    <tr>\n",
       "      <th>11</th>\n",
       "      <td>False</td>\n",
       "      <td>False</td>\n",
       "      <td>False</td>\n",
       "      <td>False</td>\n",
       "    </tr>\n",
       "    <tr>\n",
       "      <th>12</th>\n",
       "      <td>False</td>\n",
       "      <td>False</td>\n",
       "      <td>False</td>\n",
       "      <td>False</td>\n",
       "    </tr>\n",
       "    <tr>\n",
       "      <th>13</th>\n",
       "      <td>False</td>\n",
       "      <td>False</td>\n",
       "      <td>False</td>\n",
       "      <td>False</td>\n",
       "    </tr>\n",
       "    <tr>\n",
       "      <th>14</th>\n",
       "      <td>False</td>\n",
       "      <td>False</td>\n",
       "      <td>False</td>\n",
       "      <td>False</td>\n",
       "    </tr>\n",
       "    <tr>\n",
       "      <th>15</th>\n",
       "      <td>False</td>\n",
       "      <td>False</td>\n",
       "      <td>False</td>\n",
       "      <td>False</td>\n",
       "    </tr>\n",
       "    <tr>\n",
       "      <th>16</th>\n",
       "      <td>False</td>\n",
       "      <td>False</td>\n",
       "      <td>False</td>\n",
       "      <td>False</td>\n",
       "    </tr>\n",
       "    <tr>\n",
       "      <th>17</th>\n",
       "      <td>False</td>\n",
       "      <td>False</td>\n",
       "      <td>False</td>\n",
       "      <td>False</td>\n",
       "    </tr>\n",
       "    <tr>\n",
       "      <th>18</th>\n",
       "      <td>False</td>\n",
       "      <td>False</td>\n",
       "      <td>False</td>\n",
       "      <td>False</td>\n",
       "    </tr>\n",
       "    <tr>\n",
       "      <th>19</th>\n",
       "      <td>False</td>\n",
       "      <td>False</td>\n",
       "      <td>False</td>\n",
       "      <td>False</td>\n",
       "    </tr>\n",
       "    <tr>\n",
       "      <th>20</th>\n",
       "      <td>False</td>\n",
       "      <td>False</td>\n",
       "      <td>False</td>\n",
       "      <td>False</td>\n",
       "    </tr>\n",
       "    <tr>\n",
       "      <th>21</th>\n",
       "      <td>False</td>\n",
       "      <td>False</td>\n",
       "      <td>False</td>\n",
       "      <td>False</td>\n",
       "    </tr>\n",
       "    <tr>\n",
       "      <th>22</th>\n",
       "      <td>False</td>\n",
       "      <td>False</td>\n",
       "      <td>False</td>\n",
       "      <td>False</td>\n",
       "    </tr>\n",
       "    <tr>\n",
       "      <th>23</th>\n",
       "      <td>False</td>\n",
       "      <td>False</td>\n",
       "      <td>False</td>\n",
       "      <td>False</td>\n",
       "    </tr>\n",
       "    <tr>\n",
       "      <th>24</th>\n",
       "      <td>False</td>\n",
       "      <td>False</td>\n",
       "      <td>False</td>\n",
       "      <td>False</td>\n",
       "    </tr>\n",
       "    <tr>\n",
       "      <th>25</th>\n",
       "      <td>False</td>\n",
       "      <td>False</td>\n",
       "      <td>False</td>\n",
       "      <td>False</td>\n",
       "    </tr>\n",
       "    <tr>\n",
       "      <th>26</th>\n",
       "      <td>False</td>\n",
       "      <td>False</td>\n",
       "      <td>False</td>\n",
       "      <td>False</td>\n",
       "    </tr>\n",
       "    <tr>\n",
       "      <th>27</th>\n",
       "      <td>False</td>\n",
       "      <td>False</td>\n",
       "      <td>False</td>\n",
       "      <td>False</td>\n",
       "    </tr>\n",
       "    <tr>\n",
       "      <th>28</th>\n",
       "      <td>False</td>\n",
       "      <td>False</td>\n",
       "      <td>False</td>\n",
       "      <td>False</td>\n",
       "    </tr>\n",
       "  </tbody>\n",
       "</table>\n",
       "</div>"
      ],
      "text/plain": [
       "      Age  Income  Occupation  YearsExperience\n",
       "0   False   False       False            False\n",
       "1   False   False       False            False\n",
       "2   False   False       False            False\n",
       "3   False   False       False            False\n",
       "4   False   False       False            False\n",
       "5   False   False       False            False\n",
       "6   False   False       False            False\n",
       "7   False   False       False            False\n",
       "8   False   False       False            False\n",
       "9   False   False       False            False\n",
       "10  False   False       False            False\n",
       "11  False   False       False            False\n",
       "12  False   False       False            False\n",
       "13  False   False       False            False\n",
       "14  False   False       False            False\n",
       "15  False   False       False            False\n",
       "16  False   False       False            False\n",
       "17  False   False       False            False\n",
       "18  False   False       False            False\n",
       "19  False   False       False            False\n",
       "20  False   False       False            False\n",
       "21  False   False       False            False\n",
       "22  False   False       False            False\n",
       "23  False   False       False            False\n",
       "24  False   False       False            False\n",
       "25  False   False       False            False\n",
       "26  False   False       False            False\n",
       "27  False   False       False            False\n",
       "28  False   False       False            False"
      ]
     },
     "execution_count": 142,
     "metadata": {},
     "output_type": "execute_result"
    }
   ],
   "source": [
    "df.isna()"
   ]
  },
  {
   "cell_type": "code",
   "execution_count": 143,
   "id": "7b1884bb",
   "metadata": {},
   "outputs": [
    {
     "data": {
      "text/plain": [
       "Age                False\n",
       "Income             False\n",
       "Occupation         False\n",
       "YearsExperience    False\n",
       "dtype: bool"
      ]
     },
     "execution_count": 143,
     "metadata": {},
     "output_type": "execute_result"
    }
   ],
   "source": [
    "df.isnull().any()\n"
   ]
  },
  {
   "cell_type": "code",
   "execution_count": 144,
   "id": "29d5a2cb",
   "metadata": {},
   "outputs": [
    {
     "data": {
      "text/plain": [
       "Age                0\n",
       "Income             0\n",
       "Occupation         0\n",
       "YearsExperience    0\n",
       "dtype: int64"
      ]
     },
     "execution_count": 144,
     "metadata": {},
     "output_type": "execute_result"
    }
   ],
   "source": [
    "df.isnull().sum()\n"
   ]
  },
  {
   "cell_type": "code",
   "execution_count": 145,
   "id": "bdedfdb7",
   "metadata": {},
   "outputs": [
    {
     "data": {
      "text/plain": [
       "Age                 int64\n",
       "Income              int64\n",
       "Occupation         object\n",
       "YearsExperience     int64\n",
       "dtype: object"
      ]
     },
     "execution_count": 145,
     "metadata": {},
     "output_type": "execute_result"
    }
   ],
   "source": [
    "df.dtypes"
   ]
  },
  {
   "cell_type": "code",
   "execution_count": 146,
   "id": "05bd2893",
   "metadata": {},
   "outputs": [
    {
     "data": {
      "text/plain": [
       "Index(['Age', 'Income', 'Occupation', 'YearsExperience'], dtype='object')"
      ]
     },
     "execution_count": 146,
     "metadata": {},
     "output_type": "execute_result"
    }
   ],
   "source": [
    "df.columns"
   ]
  },
  {
   "cell_type": "code",
   "execution_count": 147,
   "id": "0fb59f4f",
   "metadata": {},
   "outputs": [
    {
     "name": "stdout",
     "output_type": "stream",
     "text": [
      "count    29.000000\n",
      "mean     28.689655\n",
      "std       4.175639\n",
      "min      22.000000\n",
      "25%      25.000000\n",
      "50%      29.000000\n",
      "75%      32.000000\n",
      "max      35.000000\n",
      "Name: Age, dtype: float64\n",
      "count       29.000000\n",
      "mean     59259.689655\n",
      "std      22755.703602\n",
      "min      13873.000000\n",
      "25%      40579.000000\n",
      "50%      67809.000000\n",
      "75%      78153.000000\n",
      "max      86277.000000\n",
      "Name: Income, dtype: float64\n"
     ]
    }
   ],
   "source": [
    "print(df.Age.describe())\n",
    "print(df.Income.describe())\n"
   ]
  },
  {
   "cell_type": "code",
   "execution_count": 148,
   "id": "0b8bbba8",
   "metadata": {},
   "outputs": [
    {
     "name": "stdout",
     "output_type": "stream",
     "text": [
      "28.689655172413794\n",
      "59259.68965517241\n"
     ]
    }
   ],
   "source": [
    "print(df.Age.mean())\n",
    "print(df.Income.mean())\n"
   ]
  },
  {
   "cell_type": "code",
   "execution_count": 149,
   "id": "62c5b254",
   "metadata": {},
   "outputs": [
    {
     "name": "stdout",
     "output_type": "stream",
     "text": [
      "29.0\n",
      "67809.0\n"
     ]
    }
   ],
   "source": [
    "print(df.Age.median())\n",
    "print(df.Income.median())"
   ]
  },
  {
   "cell_type": "code",
   "execution_count": 150,
   "id": "6c60db51",
   "metadata": {},
   "outputs": [
    {
     "name": "stderr",
     "output_type": "stream",
     "text": [
      "C:\\Users\\tusha\\AppData\\Local\\Temp/ipykernel_4388/3390915376.py:1: FutureWarning: Dropping of nuisance columns in DataFrame reductions (with 'numeric_only=None') is deprecated; in a future version this will raise TypeError.  Select only valid columns before calling the reduction.\n",
      "  df.std()\n"
     ]
    },
    {
     "data": {
      "text/plain": [
       "Age                    4.175639\n",
       "Income             22755.703602\n",
       "YearsExperience        2.962824\n",
       "dtype: float64"
      ]
     },
     "execution_count": 150,
     "metadata": {},
     "output_type": "execute_result"
    }
   ],
   "source": [
    "df.std()"
   ]
  },
  {
   "cell_type": "code",
   "execution_count": 151,
   "id": "ca3d6001",
   "metadata": {},
   "outputs": [
    {
     "name": "stdout",
     "output_type": "stream",
     "text": [
      "4.175638944057903\n",
      "22755.703602305086\n"
     ]
    }
   ],
   "source": [
    "print(df.Age.std())\n",
    "print(df.Income.std())\n"
   ]
  },
  {
   "cell_type": "code",
   "execution_count": 152,
   "id": "d7b4f47a",
   "metadata": {},
   "outputs": [
    {
     "data": {
      "text/plain": [
       "Age                          22\n",
       "Income                    13873\n",
       "Occupation         Data Analyst\n",
       "YearsExperience               1\n",
       "dtype: object"
      ]
     },
     "execution_count": 152,
     "metadata": {},
     "output_type": "execute_result"
    }
   ],
   "source": [
    "df.min()\n"
   ]
  },
  {
   "cell_type": "code",
   "execution_count": 153,
   "id": "6ab08c4c",
   "metadata": {},
   "outputs": [
    {
     "name": "stdout",
     "output_type": "stream",
     "text": [
      "22\n",
      "13873\n"
     ]
    }
   ],
   "source": [
    "print(df.Age.min())\n",
    "print(df.Income.min())\n"
   ]
  },
  {
   "cell_type": "code",
   "execution_count": 154,
   "id": "ea8bb6dd",
   "metadata": {},
   "outputs": [
    {
     "data": {
      "text/plain": [
       "Age                     35\n",
       "Income               86277\n",
       "Occupation         Teacher\n",
       "YearsExperience         10\n",
       "dtype: object"
      ]
     },
     "execution_count": 154,
     "metadata": {},
     "output_type": "execute_result"
    }
   ],
   "source": [
    "df.max()\n"
   ]
  },
  {
   "cell_type": "code",
   "execution_count": 155,
   "id": "d7a2dd75",
   "metadata": {},
   "outputs": [
    {
     "name": "stdout",
     "output_type": "stream",
     "text": [
      "35\n",
      "86277\n"
     ]
    }
   ],
   "source": [
    "print(df.Age.max())\n",
    "print(df.Income.max())"
   ]
  },
  {
   "cell_type": "code",
   "execution_count": 156,
   "id": "be0f05da",
   "metadata": {},
   "outputs": [
    {
     "name": "stdout",
     "output_type": "stream",
     "text": [
      "13\n",
      "72404\n"
     ]
    }
   ],
   "source": [
    "print(df.Age.max()-df.Age.min())\n",
    "print(df.Income.max()-df.Income.min())\n"
   ]
  },
  {
   "cell_type": "code",
   "execution_count": 157,
   "id": "5e5197fe",
   "metadata": {},
   "outputs": [
    {
     "name": "stderr",
     "output_type": "stream",
     "text": [
      "C:\\Users\\tusha\\AppData\\Local\\Temp/ipykernel_4388/3059890634.py:1: FutureWarning: Dropping of nuisance columns in DataFrame reductions (with 'numeric_only=None') is deprecated; in a future version this will raise TypeError.  Select only valid columns before calling the reduction.\n",
      "  df.var()\n"
     ]
    },
    {
     "data": {
      "text/plain": [
       "Age                1.743596e+01\n",
       "Income             5.178220e+08\n",
       "YearsExperience    8.778325e+00\n",
       "dtype: float64"
      ]
     },
     "execution_count": 157,
     "metadata": {},
     "output_type": "execute_result"
    }
   ],
   "source": [
    "df.var()\n"
   ]
  },
  {
   "cell_type": "code",
   "execution_count": 158,
   "id": "72982748",
   "metadata": {},
   "outputs": [
    {
     "name": "stderr",
     "output_type": "stream",
     "text": [
      "C:\\Users\\tusha\\AppData\\Local\\Temp/ipykernel_4388/1739125924.py:1: FutureWarning: Dropping of nuisance columns in DataFrame reductions (with 'numeric_only=None') is deprecated; in a future version this will raise TypeError.  Select only valid columns before calling the reduction.\n",
      "  df.var(axis=1)\n"
     ]
    },
    {
     "data": {
      "text/plain": [
       "0     2.271914e+09\n",
       "1     2.107068e+08\n",
       "2     4.426247e+08\n",
       "3     1.887070e+09\n",
       "4     1.744527e+09\n",
       "5     2.480090e+09\n",
       "6     7.143165e+08\n",
       "7     1.218327e+08\n",
       "8     1.532122e+09\n",
       "9     2.256145e+09\n",
       "10    2.143479e+09\n",
       "11    6.402413e+07\n",
       "12    4.391576e+08\n",
       "13    1.569843e+09\n",
       "14    8.622975e+08\n",
       "15    4.646840e+08\n",
       "16    2.221751e+09\n",
       "17    2.300956e+09\n",
       "18    1.113768e+09\n",
       "19    8.189296e+08\n",
       "20    2.459460e+09\n",
       "21    1.156875e+09\n",
       "22    9.832103e+08\n",
       "23    5.483984e+08\n",
       "24    1.223112e+08\n",
       "25    1.956773e+09\n",
       "26    1.859906e+09\n",
       "27    2.035208e+09\n",
       "28    1.977617e+09\n",
       "dtype: float64"
      ]
     },
     "execution_count": 158,
     "metadata": {},
     "output_type": "execute_result"
    }
   ],
   "source": [
    "df.var(axis=1)\n"
   ]
  },
  {
   "cell_type": "code",
   "execution_count": 159,
   "id": "df8eff0a",
   "metadata": {},
   "outputs": [
    {
     "name": "stdout",
     "output_type": "stream",
     "text": [
      "17.435960591133004\n",
      "517822046.43596065\n"
     ]
    }
   ],
   "source": [
    "print(df.Age.var())\n",
    "print(df.Income.var())\n"
   ]
  },
  {
   "cell_type": "code",
   "execution_count": 160,
   "id": "e3b489d0",
   "metadata": {},
   "outputs": [
    {
     "name": "stdout",
     "output_type": "stream",
     "text": [
      "0    24\n",
      "dtype: int64\n",
      "0     13873\n",
      "1     19132\n",
      "2     19177\n",
      "3     25161\n",
      "4     36314\n",
      "5     36461\n",
      "6     37351\n",
      "7     40579\n",
      "8     46309\n",
      "9     49583\n",
      "10    50876\n",
      "11    54323\n",
      "12    57821\n",
      "13    58930\n",
      "14    67809\n",
      "15    68641\n",
      "16    72361\n",
      "17    74714\n",
      "18    75260\n",
      "19    76636\n",
      "20    77046\n",
      "21    78153\n",
      "22    80211\n",
      "23    81656\n",
      "24    82286\n",
      "25    82573\n",
      "26    83103\n",
      "27    85915\n",
      "28    86277\n",
      "dtype: int64\n"
     ]
    }
   ],
   "source": [
    "print(df.Age.mode())\n",
    "print(df.Income.mode())"
   ]
  },
  {
   "cell_type": "code",
   "execution_count": 161,
   "id": "dd381130",
   "metadata": {},
   "outputs": [
    {
     "name": "stdout",
     "output_type": "stream",
     "text": [
      "0    24\n",
      "dtype: int64\n"
     ]
    }
   ],
   "source": [
    "print(df.Age.mode())"
   ]
  },
  {
   "cell_type": "code",
   "execution_count": 162,
   "id": "016b1b71",
   "metadata": {},
   "outputs": [
    {
     "data": {
      "text/html": [
       "<div>\n",
       "<style scoped>\n",
       "    .dataframe tbody tr th:only-of-type {\n",
       "        vertical-align: middle;\n",
       "    }\n",
       "\n",
       "    .dataframe tbody tr th {\n",
       "        vertical-align: top;\n",
       "    }\n",
       "\n",
       "    .dataframe thead th {\n",
       "        text-align: right;\n",
       "    }\n",
       "</style>\n",
       "<table border=\"1\" class=\"dataframe\">\n",
       "  <thead>\n",
       "    <tr style=\"text-align: right;\">\n",
       "      <th></th>\n",
       "      <th>Age</th>\n",
       "      <th>Income</th>\n",
       "      <th>Occupation</th>\n",
       "      <th>YearsExperience</th>\n",
       "    </tr>\n",
       "  </thead>\n",
       "  <tbody>\n",
       "    <tr>\n",
       "      <th>count</th>\n",
       "      <td>29.000000</td>\n",
       "      <td>29.000000</td>\n",
       "      <td>29</td>\n",
       "      <td>29.000000</td>\n",
       "    </tr>\n",
       "    <tr>\n",
       "      <th>unique</th>\n",
       "      <td>NaN</td>\n",
       "      <td>NaN</td>\n",
       "      <td>8</td>\n",
       "      <td>NaN</td>\n",
       "    </tr>\n",
       "    <tr>\n",
       "      <th>top</th>\n",
       "      <td>NaN</td>\n",
       "      <td>NaN</td>\n",
       "      <td>Engineer</td>\n",
       "      <td>NaN</td>\n",
       "    </tr>\n",
       "    <tr>\n",
       "      <th>freq</th>\n",
       "      <td>NaN</td>\n",
       "      <td>NaN</td>\n",
       "      <td>7</td>\n",
       "      <td>NaN</td>\n",
       "    </tr>\n",
       "    <tr>\n",
       "      <th>mean</th>\n",
       "      <td>28.689655</td>\n",
       "      <td>59259.689655</td>\n",
       "      <td>NaN</td>\n",
       "      <td>5.275862</td>\n",
       "    </tr>\n",
       "    <tr>\n",
       "      <th>std</th>\n",
       "      <td>4.175639</td>\n",
       "      <td>22755.703602</td>\n",
       "      <td>NaN</td>\n",
       "      <td>2.962824</td>\n",
       "    </tr>\n",
       "    <tr>\n",
       "      <th>min</th>\n",
       "      <td>22.000000</td>\n",
       "      <td>13873.000000</td>\n",
       "      <td>NaN</td>\n",
       "      <td>1.000000</td>\n",
       "    </tr>\n",
       "    <tr>\n",
       "      <th>25%</th>\n",
       "      <td>25.000000</td>\n",
       "      <td>40579.000000</td>\n",
       "      <td>NaN</td>\n",
       "      <td>2.000000</td>\n",
       "    </tr>\n",
       "    <tr>\n",
       "      <th>50%</th>\n",
       "      <td>29.000000</td>\n",
       "      <td>67809.000000</td>\n",
       "      <td>NaN</td>\n",
       "      <td>6.000000</td>\n",
       "    </tr>\n",
       "    <tr>\n",
       "      <th>75%</th>\n",
       "      <td>32.000000</td>\n",
       "      <td>78153.000000</td>\n",
       "      <td>NaN</td>\n",
       "      <td>8.000000</td>\n",
       "    </tr>\n",
       "    <tr>\n",
       "      <th>max</th>\n",
       "      <td>35.000000</td>\n",
       "      <td>86277.000000</td>\n",
       "      <td>NaN</td>\n",
       "      <td>10.000000</td>\n",
       "    </tr>\n",
       "  </tbody>\n",
       "</table>\n",
       "</div>"
      ],
      "text/plain": [
       "              Age        Income Occupation  YearsExperience\n",
       "count   29.000000     29.000000         29        29.000000\n",
       "unique        NaN           NaN          8              NaN\n",
       "top           NaN           NaN   Engineer              NaN\n",
       "freq          NaN           NaN          7              NaN\n",
       "mean    28.689655  59259.689655        NaN         5.275862\n",
       "std      4.175639  22755.703602        NaN         2.962824\n",
       "min     22.000000  13873.000000        NaN         1.000000\n",
       "25%     25.000000  40579.000000        NaN         2.000000\n",
       "50%     29.000000  67809.000000        NaN         6.000000\n",
       "75%     32.000000  78153.000000        NaN         8.000000\n",
       "max     35.000000  86277.000000        NaN        10.000000"
      ]
     },
     "execution_count": 162,
     "metadata": {},
     "output_type": "execute_result"
    }
   ],
   "source": [
    "df.describe(include=\"all\")"
   ]
  },
  {
   "cell_type": "code",
   "execution_count": 163,
   "id": "8810ec60",
   "metadata": {},
   "outputs": [],
   "source": [
    "summary_stats = df.groupby('Age')['Income'].describe()\n"
   ]
  },
  {
   "cell_type": "code",
   "execution_count": 164,
   "id": "fdf87dc1",
   "metadata": {},
   "outputs": [
    {
     "data": {
      "text/html": [
       "<div>\n",
       "<style scoped>\n",
       "    .dataframe tbody tr th:only-of-type {\n",
       "        vertical-align: middle;\n",
       "    }\n",
       "\n",
       "    .dataframe tbody tr th {\n",
       "        vertical-align: top;\n",
       "    }\n",
       "\n",
       "    .dataframe thead th {\n",
       "        text-align: right;\n",
       "    }\n",
       "</style>\n",
       "<table border=\"1\" class=\"dataframe\">\n",
       "  <thead>\n",
       "    <tr style=\"text-align: right;\">\n",
       "      <th></th>\n",
       "      <th>count</th>\n",
       "      <th>mean</th>\n",
       "      <th>std</th>\n",
       "      <th>min</th>\n",
       "      <th>25%</th>\n",
       "      <th>50%</th>\n",
       "      <th>75%</th>\n",
       "      <th>max</th>\n",
       "    </tr>\n",
       "    <tr>\n",
       "      <th>Age</th>\n",
       "      <th></th>\n",
       "      <th></th>\n",
       "      <th></th>\n",
       "      <th></th>\n",
       "      <th></th>\n",
       "      <th></th>\n",
       "      <th></th>\n",
       "      <th></th>\n",
       "    </tr>\n",
       "  </thead>\n",
       "  <tbody>\n",
       "    <tr>\n",
       "      <th>22</th>\n",
       "      <td>1.0</td>\n",
       "      <td>82573.00</td>\n",
       "      <td>NaN</td>\n",
       "      <td>82573.0</td>\n",
       "      <td>82573.00</td>\n",
       "      <td>82573.0</td>\n",
       "      <td>82573.00</td>\n",
       "      <td>82573.0</td>\n",
       "    </tr>\n",
       "    <tr>\n",
       "      <th>23</th>\n",
       "      <td>2.0</td>\n",
       "      <td>48642.50</td>\n",
       "      <td>41734.149332</td>\n",
       "      <td>19132.0</td>\n",
       "      <td>33887.25</td>\n",
       "      <td>48642.5</td>\n",
       "      <td>63397.75</td>\n",
       "      <td>78153.0</td>\n",
       "    </tr>\n",
       "    <tr>\n",
       "      <th>24</th>\n",
       "      <td>4.0</td>\n",
       "      <td>68264.75</td>\n",
       "      <td>11420.991153</td>\n",
       "      <td>54323.0</td>\n",
       "      <td>64437.50</td>\n",
       "      <td>68225.0</td>\n",
       "      <td>72052.25</td>\n",
       "      <td>82286.0</td>\n",
       "    </tr>\n",
       "    <tr>\n",
       "      <th>25</th>\n",
       "      <td>2.0</td>\n",
       "      <td>61618.50</td>\n",
       "      <td>15192.189194</td>\n",
       "      <td>50876.0</td>\n",
       "      <td>56247.25</td>\n",
       "      <td>61618.5</td>\n",
       "      <td>66989.75</td>\n",
       "      <td>72361.0</td>\n",
       "    </tr>\n",
       "    <tr>\n",
       "      <th>26</th>\n",
       "      <td>2.0</td>\n",
       "      <td>41830.00</td>\n",
       "      <td>6334.262546</td>\n",
       "      <td>37351.0</td>\n",
       "      <td>39590.50</td>\n",
       "      <td>41830.0</td>\n",
       "      <td>44069.50</td>\n",
       "      <td>46309.0</td>\n",
       "    </tr>\n",
       "    <tr>\n",
       "      <th>27</th>\n",
       "      <td>1.0</td>\n",
       "      <td>13873.00</td>\n",
       "      <td>NaN</td>\n",
       "      <td>13873.0</td>\n",
       "      <td>13873.00</td>\n",
       "      <td>13873.0</td>\n",
       "      <td>13873.00</td>\n",
       "      <td>13873.0</td>\n",
       "    </tr>\n",
       "    <tr>\n",
       "      <th>28</th>\n",
       "      <td>2.0</td>\n",
       "      <td>79146.00</td>\n",
       "      <td>3549.676042</td>\n",
       "      <td>76636.0</td>\n",
       "      <td>77891.00</td>\n",
       "      <td>79146.0</td>\n",
       "      <td>80401.00</td>\n",
       "      <td>81656.0</td>\n",
       "    </tr>\n",
       "    <tr>\n",
       "      <th>29</th>\n",
       "      <td>1.0</td>\n",
       "      <td>25161.00</td>\n",
       "      <td>NaN</td>\n",
       "      <td>25161.0</td>\n",
       "      <td>25161.00</td>\n",
       "      <td>25161.0</td>\n",
       "      <td>25161.00</td>\n",
       "      <td>25161.0</td>\n",
       "    </tr>\n",
       "    <tr>\n",
       "      <th>30</th>\n",
       "      <td>3.0</td>\n",
       "      <td>61559.00</td>\n",
       "      <td>23077.181024</td>\n",
       "      <td>40579.0</td>\n",
       "      <td>49200.00</td>\n",
       "      <td>57821.0</td>\n",
       "      <td>72049.00</td>\n",
       "      <td>86277.0</td>\n",
       "    </tr>\n",
       "    <tr>\n",
       "      <th>31</th>\n",
       "      <td>3.0</td>\n",
       "      <td>53537.00</td>\n",
       "      <td>19502.963544</td>\n",
       "      <td>36314.0</td>\n",
       "      <td>42948.50</td>\n",
       "      <td>49583.0</td>\n",
       "      <td>62148.50</td>\n",
       "      <td>74714.0</td>\n",
       "    </tr>\n",
       "    <tr>\n",
       "      <th>32</th>\n",
       "      <td>1.0</td>\n",
       "      <td>83103.00</td>\n",
       "      <td>NaN</td>\n",
       "      <td>83103.0</td>\n",
       "      <td>83103.00</td>\n",
       "      <td>83103.0</td>\n",
       "      <td>83103.00</td>\n",
       "      <td>83103.0</td>\n",
       "    </tr>\n",
       "    <tr>\n",
       "      <th>33</th>\n",
       "      <td>2.0</td>\n",
       "      <td>81480.50</td>\n",
       "      <td>6271.330042</td>\n",
       "      <td>77046.0</td>\n",
       "      <td>79263.25</td>\n",
       "      <td>81480.5</td>\n",
       "      <td>83697.75</td>\n",
       "      <td>85915.0</td>\n",
       "    </tr>\n",
       "    <tr>\n",
       "      <th>34</th>\n",
       "      <td>2.0</td>\n",
       "      <td>67095.00</td>\n",
       "      <td>11547.053737</td>\n",
       "      <td>58930.0</td>\n",
       "      <td>63012.50</td>\n",
       "      <td>67095.0</td>\n",
       "      <td>71177.50</td>\n",
       "      <td>75260.0</td>\n",
       "    </tr>\n",
       "    <tr>\n",
       "      <th>35</th>\n",
       "      <td>3.0</td>\n",
       "      <td>45283.00</td>\n",
       "      <td>31458.831065</td>\n",
       "      <td>19177.0</td>\n",
       "      <td>27819.00</td>\n",
       "      <td>36461.0</td>\n",
       "      <td>58336.00</td>\n",
       "      <td>80211.0</td>\n",
       "    </tr>\n",
       "  </tbody>\n",
       "</table>\n",
       "</div>"
      ],
      "text/plain": [
       "     count      mean           std      min       25%      50%       75%  \\\n",
       "Age                                                                        \n",
       "22     1.0  82573.00           NaN  82573.0  82573.00  82573.0  82573.00   \n",
       "23     2.0  48642.50  41734.149332  19132.0  33887.25  48642.5  63397.75   \n",
       "24     4.0  68264.75  11420.991153  54323.0  64437.50  68225.0  72052.25   \n",
       "25     2.0  61618.50  15192.189194  50876.0  56247.25  61618.5  66989.75   \n",
       "26     2.0  41830.00   6334.262546  37351.0  39590.50  41830.0  44069.50   \n",
       "27     1.0  13873.00           NaN  13873.0  13873.00  13873.0  13873.00   \n",
       "28     2.0  79146.00   3549.676042  76636.0  77891.00  79146.0  80401.00   \n",
       "29     1.0  25161.00           NaN  25161.0  25161.00  25161.0  25161.00   \n",
       "30     3.0  61559.00  23077.181024  40579.0  49200.00  57821.0  72049.00   \n",
       "31     3.0  53537.00  19502.963544  36314.0  42948.50  49583.0  62148.50   \n",
       "32     1.0  83103.00           NaN  83103.0  83103.00  83103.0  83103.00   \n",
       "33     2.0  81480.50   6271.330042  77046.0  79263.25  81480.5  83697.75   \n",
       "34     2.0  67095.00  11547.053737  58930.0  63012.50  67095.0  71177.50   \n",
       "35     3.0  45283.00  31458.831065  19177.0  27819.00  36461.0  58336.00   \n",
       "\n",
       "         max  \n",
       "Age           \n",
       "22   82573.0  \n",
       "23   78153.0  \n",
       "24   82286.0  \n",
       "25   72361.0  \n",
       "26   46309.0  \n",
       "27   13873.0  \n",
       "28   81656.0  \n",
       "29   25161.0  \n",
       "30   86277.0  \n",
       "31   74714.0  \n",
       "32   83103.0  \n",
       "33   85915.0  \n",
       "34   75260.0  \n",
       "35   80211.0  "
      ]
     },
     "execution_count": 164,
     "metadata": {},
     "output_type": "execute_result"
    }
   ],
   "source": [
    "summary_stats"
   ]
  },
  {
   "cell_type": "code",
   "execution_count": 165,
   "id": "00ee0182",
   "metadata": {},
   "outputs": [],
   "source": [
    "iris=pd.read_csv(\"C://Users//tusha//OneDrive//Desktop//AAA dsbdsa//A3//iris.csv\")"
   ]
  },
  {
   "cell_type": "code",
   "execution_count": 166,
   "id": "7d02b02e",
   "metadata": {},
   "outputs": [
    {
     "data": {
      "text/html": [
       "<div>\n",
       "<style scoped>\n",
       "    .dataframe tbody tr th:only-of-type {\n",
       "        vertical-align: middle;\n",
       "    }\n",
       "\n",
       "    .dataframe tbody tr th {\n",
       "        vertical-align: top;\n",
       "    }\n",
       "\n",
       "    .dataframe thead th {\n",
       "        text-align: right;\n",
       "    }\n",
       "</style>\n",
       "<table border=\"1\" class=\"dataframe\">\n",
       "  <thead>\n",
       "    <tr style=\"text-align: right;\">\n",
       "      <th></th>\n",
       "      <th>Id</th>\n",
       "      <th>SepalLengthCm</th>\n",
       "      <th>SepalWidthCm</th>\n",
       "      <th>PetalLengthCm</th>\n",
       "      <th>PetalWidthCm</th>\n",
       "      <th>Species</th>\n",
       "    </tr>\n",
       "  </thead>\n",
       "  <tbody>\n",
       "    <tr>\n",
       "      <th>0</th>\n",
       "      <td>1</td>\n",
       "      <td>5.1</td>\n",
       "      <td>3.5</td>\n",
       "      <td>1.4</td>\n",
       "      <td>0.2</td>\n",
       "      <td>Iris-setosa</td>\n",
       "    </tr>\n",
       "    <tr>\n",
       "      <th>1</th>\n",
       "      <td>2</td>\n",
       "      <td>4.9</td>\n",
       "      <td>3.0</td>\n",
       "      <td>1.4</td>\n",
       "      <td>0.2</td>\n",
       "      <td>Iris-setosa</td>\n",
       "    </tr>\n",
       "    <tr>\n",
       "      <th>2</th>\n",
       "      <td>3</td>\n",
       "      <td>4.7</td>\n",
       "      <td>3.2</td>\n",
       "      <td>1.3</td>\n",
       "      <td>0.2</td>\n",
       "      <td>Iris-setosa</td>\n",
       "    </tr>\n",
       "    <tr>\n",
       "      <th>3</th>\n",
       "      <td>4</td>\n",
       "      <td>4.6</td>\n",
       "      <td>3.1</td>\n",
       "      <td>1.5</td>\n",
       "      <td>0.2</td>\n",
       "      <td>Iris-setosa</td>\n",
       "    </tr>\n",
       "    <tr>\n",
       "      <th>4</th>\n",
       "      <td>5</td>\n",
       "      <td>5.0</td>\n",
       "      <td>3.6</td>\n",
       "      <td>1.4</td>\n",
       "      <td>0.2</td>\n",
       "      <td>Iris-setosa</td>\n",
       "    </tr>\n",
       "    <tr>\n",
       "      <th>...</th>\n",
       "      <td>...</td>\n",
       "      <td>...</td>\n",
       "      <td>...</td>\n",
       "      <td>...</td>\n",
       "      <td>...</td>\n",
       "      <td>...</td>\n",
       "    </tr>\n",
       "    <tr>\n",
       "      <th>145</th>\n",
       "      <td>146</td>\n",
       "      <td>6.7</td>\n",
       "      <td>3.0</td>\n",
       "      <td>5.2</td>\n",
       "      <td>2.3</td>\n",
       "      <td>Iris-virginica</td>\n",
       "    </tr>\n",
       "    <tr>\n",
       "      <th>146</th>\n",
       "      <td>147</td>\n",
       "      <td>6.3</td>\n",
       "      <td>2.5</td>\n",
       "      <td>5.0</td>\n",
       "      <td>1.9</td>\n",
       "      <td>Iris-virginica</td>\n",
       "    </tr>\n",
       "    <tr>\n",
       "      <th>147</th>\n",
       "      <td>148</td>\n",
       "      <td>6.5</td>\n",
       "      <td>3.0</td>\n",
       "      <td>5.2</td>\n",
       "      <td>2.0</td>\n",
       "      <td>Iris-virginica</td>\n",
       "    </tr>\n",
       "    <tr>\n",
       "      <th>148</th>\n",
       "      <td>149</td>\n",
       "      <td>6.2</td>\n",
       "      <td>3.4</td>\n",
       "      <td>5.4</td>\n",
       "      <td>2.3</td>\n",
       "      <td>Iris-virginica</td>\n",
       "    </tr>\n",
       "    <tr>\n",
       "      <th>149</th>\n",
       "      <td>150</td>\n",
       "      <td>5.9</td>\n",
       "      <td>3.0</td>\n",
       "      <td>5.1</td>\n",
       "      <td>1.8</td>\n",
       "      <td>Iris-virginica</td>\n",
       "    </tr>\n",
       "  </tbody>\n",
       "</table>\n",
       "<p>150 rows × 6 columns</p>\n",
       "</div>"
      ],
      "text/plain": [
       "      Id  SepalLengthCm  SepalWidthCm  PetalLengthCm  PetalWidthCm  \\\n",
       "0      1            5.1           3.5            1.4           0.2   \n",
       "1      2            4.9           3.0            1.4           0.2   \n",
       "2      3            4.7           3.2            1.3           0.2   \n",
       "3      4            4.6           3.1            1.5           0.2   \n",
       "4      5            5.0           3.6            1.4           0.2   \n",
       "..   ...            ...           ...            ...           ...   \n",
       "145  146            6.7           3.0            5.2           2.3   \n",
       "146  147            6.3           2.5            5.0           1.9   \n",
       "147  148            6.5           3.0            5.2           2.0   \n",
       "148  149            6.2           3.4            5.4           2.3   \n",
       "149  150            5.9           3.0            5.1           1.8   \n",
       "\n",
       "            Species  \n",
       "0       Iris-setosa  \n",
       "1       Iris-setosa  \n",
       "2       Iris-setosa  \n",
       "3       Iris-setosa  \n",
       "4       Iris-setosa  \n",
       "..              ...  \n",
       "145  Iris-virginica  \n",
       "146  Iris-virginica  \n",
       "147  Iris-virginica  \n",
       "148  Iris-virginica  \n",
       "149  Iris-virginica  \n",
       "\n",
       "[150 rows x 6 columns]"
      ]
     },
     "execution_count": 166,
     "metadata": {},
     "output_type": "execute_result"
    }
   ],
   "source": [
    "iris"
   ]
  },
  {
   "cell_type": "code",
   "execution_count": 167,
   "id": "63106648",
   "metadata": {},
   "outputs": [
    {
     "data": {
      "text/html": [
       "<div>\n",
       "<style scoped>\n",
       "    .dataframe tbody tr th:only-of-type {\n",
       "        vertical-align: middle;\n",
       "    }\n",
       "\n",
       "    .dataframe tbody tr th {\n",
       "        vertical-align: top;\n",
       "    }\n",
       "\n",
       "    .dataframe thead th {\n",
       "        text-align: right;\n",
       "    }\n",
       "</style>\n",
       "<table border=\"1\" class=\"dataframe\">\n",
       "  <thead>\n",
       "    <tr style=\"text-align: right;\">\n",
       "      <th></th>\n",
       "      <th>Id</th>\n",
       "      <th>SepalLengthCm</th>\n",
       "      <th>SepalWidthCm</th>\n",
       "      <th>PetalLengthCm</th>\n",
       "      <th>PetalWidthCm</th>\n",
       "      <th>Species</th>\n",
       "    </tr>\n",
       "  </thead>\n",
       "  <tbody>\n",
       "    <tr>\n",
       "      <th>count</th>\n",
       "      <td>150.000000</td>\n",
       "      <td>150.000000</td>\n",
       "      <td>150.000000</td>\n",
       "      <td>150.000000</td>\n",
       "      <td>150.000000</td>\n",
       "      <td>150</td>\n",
       "    </tr>\n",
       "    <tr>\n",
       "      <th>unique</th>\n",
       "      <td>NaN</td>\n",
       "      <td>NaN</td>\n",
       "      <td>NaN</td>\n",
       "      <td>NaN</td>\n",
       "      <td>NaN</td>\n",
       "      <td>3</td>\n",
       "    </tr>\n",
       "    <tr>\n",
       "      <th>top</th>\n",
       "      <td>NaN</td>\n",
       "      <td>NaN</td>\n",
       "      <td>NaN</td>\n",
       "      <td>NaN</td>\n",
       "      <td>NaN</td>\n",
       "      <td>Iris-setosa</td>\n",
       "    </tr>\n",
       "    <tr>\n",
       "      <th>freq</th>\n",
       "      <td>NaN</td>\n",
       "      <td>NaN</td>\n",
       "      <td>NaN</td>\n",
       "      <td>NaN</td>\n",
       "      <td>NaN</td>\n",
       "      <td>50</td>\n",
       "    </tr>\n",
       "    <tr>\n",
       "      <th>mean</th>\n",
       "      <td>75.500000</td>\n",
       "      <td>5.843333</td>\n",
       "      <td>3.054000</td>\n",
       "      <td>3.758667</td>\n",
       "      <td>1.198667</td>\n",
       "      <td>NaN</td>\n",
       "    </tr>\n",
       "    <tr>\n",
       "      <th>std</th>\n",
       "      <td>43.445368</td>\n",
       "      <td>0.828066</td>\n",
       "      <td>0.433594</td>\n",
       "      <td>1.764420</td>\n",
       "      <td>0.763161</td>\n",
       "      <td>NaN</td>\n",
       "    </tr>\n",
       "    <tr>\n",
       "      <th>min</th>\n",
       "      <td>1.000000</td>\n",
       "      <td>4.300000</td>\n",
       "      <td>2.000000</td>\n",
       "      <td>1.000000</td>\n",
       "      <td>0.100000</td>\n",
       "      <td>NaN</td>\n",
       "    </tr>\n",
       "    <tr>\n",
       "      <th>25%</th>\n",
       "      <td>38.250000</td>\n",
       "      <td>5.100000</td>\n",
       "      <td>2.800000</td>\n",
       "      <td>1.600000</td>\n",
       "      <td>0.300000</td>\n",
       "      <td>NaN</td>\n",
       "    </tr>\n",
       "    <tr>\n",
       "      <th>50%</th>\n",
       "      <td>75.500000</td>\n",
       "      <td>5.800000</td>\n",
       "      <td>3.000000</td>\n",
       "      <td>4.350000</td>\n",
       "      <td>1.300000</td>\n",
       "      <td>NaN</td>\n",
       "    </tr>\n",
       "    <tr>\n",
       "      <th>75%</th>\n",
       "      <td>112.750000</td>\n",
       "      <td>6.400000</td>\n",
       "      <td>3.300000</td>\n",
       "      <td>5.100000</td>\n",
       "      <td>1.800000</td>\n",
       "      <td>NaN</td>\n",
       "    </tr>\n",
       "    <tr>\n",
       "      <th>max</th>\n",
       "      <td>150.000000</td>\n",
       "      <td>7.900000</td>\n",
       "      <td>4.400000</td>\n",
       "      <td>6.900000</td>\n",
       "      <td>2.500000</td>\n",
       "      <td>NaN</td>\n",
       "    </tr>\n",
       "  </tbody>\n",
       "</table>\n",
       "</div>"
      ],
      "text/plain": [
       "                Id  SepalLengthCm  SepalWidthCm  PetalLengthCm  PetalWidthCm  \\\n",
       "count   150.000000     150.000000    150.000000     150.000000    150.000000   \n",
       "unique         NaN            NaN           NaN            NaN           NaN   \n",
       "top            NaN            NaN           NaN            NaN           NaN   \n",
       "freq           NaN            NaN           NaN            NaN           NaN   \n",
       "mean     75.500000       5.843333      3.054000       3.758667      1.198667   \n",
       "std      43.445368       0.828066      0.433594       1.764420      0.763161   \n",
       "min       1.000000       4.300000      2.000000       1.000000      0.100000   \n",
       "25%      38.250000       5.100000      2.800000       1.600000      0.300000   \n",
       "50%      75.500000       5.800000      3.000000       4.350000      1.300000   \n",
       "75%     112.750000       6.400000      3.300000       5.100000      1.800000   \n",
       "max     150.000000       7.900000      4.400000       6.900000      2.500000   \n",
       "\n",
       "            Species  \n",
       "count           150  \n",
       "unique            3  \n",
       "top     Iris-setosa  \n",
       "freq             50  \n",
       "mean            NaN  \n",
       "std             NaN  \n",
       "min             NaN  \n",
       "25%             NaN  \n",
       "50%             NaN  \n",
       "75%             NaN  \n",
       "max             NaN  "
      ]
     },
     "execution_count": 167,
     "metadata": {},
     "output_type": "execute_result"
    }
   ],
   "source": [
    " iris.describe(include=\"all\")"
   ]
  },
  {
   "cell_type": "code",
   "execution_count": 168,
   "id": "d59cb979",
   "metadata": {},
   "outputs": [
    {
     "data": {
      "text/plain": [
       "(150, 6)"
      ]
     },
     "execution_count": 168,
     "metadata": {},
     "output_type": "execute_result"
    }
   ],
   "source": [
    " iris.shape\n"
   ]
  },
  {
   "cell_type": "code",
   "execution_count": 169,
   "id": "3226853a",
   "metadata": {},
   "outputs": [
    {
     "data": {
      "text/html": [
       "<div>\n",
       "<style scoped>\n",
       "    .dataframe tbody tr th:only-of-type {\n",
       "        vertical-align: middle;\n",
       "    }\n",
       "\n",
       "    .dataframe tbody tr th {\n",
       "        vertical-align: top;\n",
       "    }\n",
       "\n",
       "    .dataframe thead th {\n",
       "        text-align: right;\n",
       "    }\n",
       "</style>\n",
       "<table border=\"1\" class=\"dataframe\">\n",
       "  <thead>\n",
       "    <tr style=\"text-align: right;\">\n",
       "      <th></th>\n",
       "      <th>Id</th>\n",
       "      <th>SepalLengthCm</th>\n",
       "      <th>SepalWidthCm</th>\n",
       "      <th>PetalLengthCm</th>\n",
       "      <th>PetalWidthCm</th>\n",
       "      <th>Species</th>\n",
       "    </tr>\n",
       "  </thead>\n",
       "  <tbody>\n",
       "    <tr>\n",
       "      <th>0</th>\n",
       "      <td>False</td>\n",
       "      <td>False</td>\n",
       "      <td>False</td>\n",
       "      <td>False</td>\n",
       "      <td>False</td>\n",
       "      <td>False</td>\n",
       "    </tr>\n",
       "    <tr>\n",
       "      <th>1</th>\n",
       "      <td>False</td>\n",
       "      <td>False</td>\n",
       "      <td>False</td>\n",
       "      <td>False</td>\n",
       "      <td>False</td>\n",
       "      <td>False</td>\n",
       "    </tr>\n",
       "    <tr>\n",
       "      <th>2</th>\n",
       "      <td>False</td>\n",
       "      <td>False</td>\n",
       "      <td>False</td>\n",
       "      <td>False</td>\n",
       "      <td>False</td>\n",
       "      <td>False</td>\n",
       "    </tr>\n",
       "    <tr>\n",
       "      <th>3</th>\n",
       "      <td>False</td>\n",
       "      <td>False</td>\n",
       "      <td>False</td>\n",
       "      <td>False</td>\n",
       "      <td>False</td>\n",
       "      <td>False</td>\n",
       "    </tr>\n",
       "    <tr>\n",
       "      <th>4</th>\n",
       "      <td>False</td>\n",
       "      <td>False</td>\n",
       "      <td>False</td>\n",
       "      <td>False</td>\n",
       "      <td>False</td>\n",
       "      <td>False</td>\n",
       "    </tr>\n",
       "    <tr>\n",
       "      <th>...</th>\n",
       "      <td>...</td>\n",
       "      <td>...</td>\n",
       "      <td>...</td>\n",
       "      <td>...</td>\n",
       "      <td>...</td>\n",
       "      <td>...</td>\n",
       "    </tr>\n",
       "    <tr>\n",
       "      <th>145</th>\n",
       "      <td>False</td>\n",
       "      <td>False</td>\n",
       "      <td>False</td>\n",
       "      <td>False</td>\n",
       "      <td>False</td>\n",
       "      <td>False</td>\n",
       "    </tr>\n",
       "    <tr>\n",
       "      <th>146</th>\n",
       "      <td>False</td>\n",
       "      <td>False</td>\n",
       "      <td>False</td>\n",
       "      <td>False</td>\n",
       "      <td>False</td>\n",
       "      <td>False</td>\n",
       "    </tr>\n",
       "    <tr>\n",
       "      <th>147</th>\n",
       "      <td>False</td>\n",
       "      <td>False</td>\n",
       "      <td>False</td>\n",
       "      <td>False</td>\n",
       "      <td>False</td>\n",
       "      <td>False</td>\n",
       "    </tr>\n",
       "    <tr>\n",
       "      <th>148</th>\n",
       "      <td>False</td>\n",
       "      <td>False</td>\n",
       "      <td>False</td>\n",
       "      <td>False</td>\n",
       "      <td>False</td>\n",
       "      <td>False</td>\n",
       "    </tr>\n",
       "    <tr>\n",
       "      <th>149</th>\n",
       "      <td>False</td>\n",
       "      <td>False</td>\n",
       "      <td>False</td>\n",
       "      <td>False</td>\n",
       "      <td>False</td>\n",
       "      <td>False</td>\n",
       "    </tr>\n",
       "  </tbody>\n",
       "</table>\n",
       "<p>150 rows × 6 columns</p>\n",
       "</div>"
      ],
      "text/plain": [
       "        Id  SepalLengthCm  SepalWidthCm  PetalLengthCm  PetalWidthCm  Species\n",
       "0    False          False         False          False         False    False\n",
       "1    False          False         False          False         False    False\n",
       "2    False          False         False          False         False    False\n",
       "3    False          False         False          False         False    False\n",
       "4    False          False         False          False         False    False\n",
       "..     ...            ...           ...            ...           ...      ...\n",
       "145  False          False         False          False         False    False\n",
       "146  False          False         False          False         False    False\n",
       "147  False          False         False          False         False    False\n",
       "148  False          False         False          False         False    False\n",
       "149  False          False         False          False         False    False\n",
       "\n",
       "[150 rows x 6 columns]"
      ]
     },
     "execution_count": 169,
     "metadata": {},
     "output_type": "execute_result"
    }
   ],
   "source": [
    " iris.isnull()"
   ]
  },
  {
   "cell_type": "code",
   "execution_count": 170,
   "id": "400bdeda",
   "metadata": {},
   "outputs": [
    {
     "data": {
      "text/html": [
       "<div>\n",
       "<style scoped>\n",
       "    .dataframe tbody tr th:only-of-type {\n",
       "        vertical-align: middle;\n",
       "    }\n",
       "\n",
       "    .dataframe tbody tr th {\n",
       "        vertical-align: top;\n",
       "    }\n",
       "\n",
       "    .dataframe thead th {\n",
       "        text-align: right;\n",
       "    }\n",
       "</style>\n",
       "<table border=\"1\" class=\"dataframe\">\n",
       "  <thead>\n",
       "    <tr style=\"text-align: right;\">\n",
       "      <th></th>\n",
       "      <th>Id</th>\n",
       "      <th>SepalLengthCm</th>\n",
       "      <th>SepalWidthCm</th>\n",
       "      <th>PetalLengthCm</th>\n",
       "      <th>PetalWidthCm</th>\n",
       "      <th>Species</th>\n",
       "    </tr>\n",
       "  </thead>\n",
       "  <tbody>\n",
       "    <tr>\n",
       "      <th>0</th>\n",
       "      <td>False</td>\n",
       "      <td>False</td>\n",
       "      <td>False</td>\n",
       "      <td>False</td>\n",
       "      <td>False</td>\n",
       "      <td>False</td>\n",
       "    </tr>\n",
       "    <tr>\n",
       "      <th>1</th>\n",
       "      <td>False</td>\n",
       "      <td>False</td>\n",
       "      <td>False</td>\n",
       "      <td>False</td>\n",
       "      <td>False</td>\n",
       "      <td>False</td>\n",
       "    </tr>\n",
       "    <tr>\n",
       "      <th>2</th>\n",
       "      <td>False</td>\n",
       "      <td>False</td>\n",
       "      <td>False</td>\n",
       "      <td>False</td>\n",
       "      <td>False</td>\n",
       "      <td>False</td>\n",
       "    </tr>\n",
       "    <tr>\n",
       "      <th>3</th>\n",
       "      <td>False</td>\n",
       "      <td>False</td>\n",
       "      <td>False</td>\n",
       "      <td>False</td>\n",
       "      <td>False</td>\n",
       "      <td>False</td>\n",
       "    </tr>\n",
       "    <tr>\n",
       "      <th>4</th>\n",
       "      <td>False</td>\n",
       "      <td>False</td>\n",
       "      <td>False</td>\n",
       "      <td>False</td>\n",
       "      <td>False</td>\n",
       "      <td>False</td>\n",
       "    </tr>\n",
       "    <tr>\n",
       "      <th>...</th>\n",
       "      <td>...</td>\n",
       "      <td>...</td>\n",
       "      <td>...</td>\n",
       "      <td>...</td>\n",
       "      <td>...</td>\n",
       "      <td>...</td>\n",
       "    </tr>\n",
       "    <tr>\n",
       "      <th>145</th>\n",
       "      <td>False</td>\n",
       "      <td>False</td>\n",
       "      <td>False</td>\n",
       "      <td>False</td>\n",
       "      <td>False</td>\n",
       "      <td>False</td>\n",
       "    </tr>\n",
       "    <tr>\n",
       "      <th>146</th>\n",
       "      <td>False</td>\n",
       "      <td>False</td>\n",
       "      <td>False</td>\n",
       "      <td>False</td>\n",
       "      <td>False</td>\n",
       "      <td>False</td>\n",
       "    </tr>\n",
       "    <tr>\n",
       "      <th>147</th>\n",
       "      <td>False</td>\n",
       "      <td>False</td>\n",
       "      <td>False</td>\n",
       "      <td>False</td>\n",
       "      <td>False</td>\n",
       "      <td>False</td>\n",
       "    </tr>\n",
       "    <tr>\n",
       "      <th>148</th>\n",
       "      <td>False</td>\n",
       "      <td>False</td>\n",
       "      <td>False</td>\n",
       "      <td>False</td>\n",
       "      <td>False</td>\n",
       "      <td>False</td>\n",
       "    </tr>\n",
       "    <tr>\n",
       "      <th>149</th>\n",
       "      <td>False</td>\n",
       "      <td>False</td>\n",
       "      <td>False</td>\n",
       "      <td>False</td>\n",
       "      <td>False</td>\n",
       "      <td>False</td>\n",
       "    </tr>\n",
       "  </tbody>\n",
       "</table>\n",
       "<p>150 rows × 6 columns</p>\n",
       "</div>"
      ],
      "text/plain": [
       "        Id  SepalLengthCm  SepalWidthCm  PetalLengthCm  PetalWidthCm  Species\n",
       "0    False          False         False          False         False    False\n",
       "1    False          False         False          False         False    False\n",
       "2    False          False         False          False         False    False\n",
       "3    False          False         False          False         False    False\n",
       "4    False          False         False          False         False    False\n",
       "..     ...            ...           ...            ...           ...      ...\n",
       "145  False          False         False          False         False    False\n",
       "146  False          False         False          False         False    False\n",
       "147  False          False         False          False         False    False\n",
       "148  False          False         False          False         False    False\n",
       "149  False          False         False          False         False    False\n",
       "\n",
       "[150 rows x 6 columns]"
      ]
     },
     "execution_count": 170,
     "metadata": {},
     "output_type": "execute_result"
    }
   ],
   "source": [
    "iris.isna()"
   ]
  },
  {
   "cell_type": "code",
   "execution_count": 171,
   "id": "32682236",
   "metadata": {},
   "outputs": [
    {
     "data": {
      "text/plain": [
       "Id               False\n",
       "SepalLengthCm    False\n",
       "SepalWidthCm     False\n",
       "PetalLengthCm    False\n",
       "PetalWidthCm     False\n",
       "Species          False\n",
       "dtype: bool"
      ]
     },
     "execution_count": 171,
     "metadata": {},
     "output_type": "execute_result"
    }
   ],
   "source": [
    "iris.isnull().any()\n"
   ]
  },
  {
   "cell_type": "code",
   "execution_count": 172,
   "id": "c5cf58d3",
   "metadata": {},
   "outputs": [
    {
     "data": {
      "text/plain": [
       "Id               0\n",
       "SepalLengthCm    0\n",
       "SepalWidthCm     0\n",
       "PetalLengthCm    0\n",
       "PetalWidthCm     0\n",
       "Species          0\n",
       "dtype: int64"
      ]
     },
     "execution_count": 172,
     "metadata": {},
     "output_type": "execute_result"
    }
   ],
   "source": [
    "iris.isnull().sum()\n"
   ]
  },
  {
   "cell_type": "code",
   "execution_count": 173,
   "id": "7fa01510",
   "metadata": {},
   "outputs": [
    {
     "data": {
      "text/plain": [
       "0"
      ]
     },
     "execution_count": 173,
     "metadata": {},
     "output_type": "execute_result"
    }
   ],
   "source": [
    "iris.SepalLengthCm.isnull().sum()\n"
   ]
  },
  {
   "cell_type": "code",
   "execution_count": 174,
   "id": "f1d21d25",
   "metadata": {},
   "outputs": [
    {
     "data": {
      "text/plain": [
       "Id                 int64\n",
       "SepalLengthCm    float64\n",
       "SepalWidthCm     float64\n",
       "PetalLengthCm    float64\n",
       "PetalWidthCm     float64\n",
       "Species           object\n",
       "dtype: object"
      ]
     },
     "execution_count": 174,
     "metadata": {},
     "output_type": "execute_result"
    }
   ],
   "source": [
    " iris.dtypes\n"
   ]
  },
  {
   "cell_type": "code",
   "execution_count": 175,
   "id": "6aa1c9d5",
   "metadata": {},
   "outputs": [
    {
     "data": {
      "text/plain": [
       "Index(['Id', 'SepalLengthCm', 'SepalWidthCm', 'PetalLengthCm', 'PetalWidthCm',\n",
       "       'Species'],\n",
       "      dtype='object')"
      ]
     },
     "execution_count": 175,
     "metadata": {},
     "output_type": "execute_result"
    }
   ],
   "source": [
    "iris.columns"
   ]
  },
  {
   "cell_type": "code",
   "execution_count": 176,
   "id": "569b2a68",
   "metadata": {},
   "outputs": [],
   "source": [
    "col_names =['Sepal_Length','Sepal_Width','Petal_Length','Petal_Width','Species']"
   ]
  },
  {
   "cell_type": "code",
   "execution_count": 177,
   "id": "644d69f5",
   "metadata": {},
   "outputs": [],
   "source": [
    "irisSet = (iris['Species']== 'Iris-setosa')\n"
   ]
  },
  {
   "cell_type": "code",
   "execution_count": 178,
   "id": "c5da6a98",
   "metadata": {},
   "outputs": [
    {
     "name": "stdout",
     "output_type": "stream",
     "text": [
      "Iris-setosa\n",
      "             Id  SepalLengthCm  SepalWidthCm  PetalLengthCm  PetalWidthCm\n",
      "count  50.00000       50.00000     50.000000      50.000000      50.00000\n",
      "mean   25.50000        5.00600      3.418000       1.464000       0.24400\n",
      "std    14.57738        0.35249      0.381024       0.173511       0.10721\n",
      "min     1.00000        4.30000      2.300000       1.000000       0.10000\n",
      "25%    13.25000        4.80000      3.125000       1.400000       0.20000\n",
      "50%    25.50000        5.00000      3.400000       1.500000       0.20000\n",
      "75%    37.75000        5.20000      3.675000       1.575000       0.30000\n",
      "max    50.00000        5.80000      4.400000       1.900000       0.60000\n"
     ]
    }
   ],
   "source": [
    "print('Iris-setosa')\n",
    "print(iris[irisSet].describe())"
   ]
  },
  {
   "cell_type": "code",
   "execution_count": 179,
   "id": "bb57c590",
   "metadata": {},
   "outputs": [],
   "source": [
    "irisVer = (iris['Species']== 'Iris-versicolor')\n"
   ]
  },
  {
   "cell_type": "code",
   "execution_count": 180,
   "id": "b4fd5999",
   "metadata": {},
   "outputs": [
    {
     "name": "stdout",
     "output_type": "stream",
     "text": [
      "Iris-versicolor\n",
      "              Id  SepalLengthCm  SepalWidthCm  PetalLengthCm  PetalWidthCm\n",
      "count   50.00000      50.000000     50.000000      50.000000     50.000000\n",
      "mean    75.50000       5.936000      2.770000       4.260000      1.326000\n",
      "std     14.57738       0.516171      0.313798       0.469911      0.197753\n",
      "min     51.00000       4.900000      2.000000       3.000000      1.000000\n",
      "25%     63.25000       5.600000      2.525000       4.000000      1.200000\n",
      "50%     75.50000       5.900000      2.800000       4.350000      1.300000\n",
      "75%     87.75000       6.300000      3.000000       4.600000      1.500000\n",
      "max    100.00000       7.000000      3.400000       5.100000      1.800000\n"
     ]
    }
   ],
   "source": [
    "print('Iris-versicolor')\n",
    "print(iris[irisVer].describe())\n"
   ]
  },
  {
   "cell_type": "code",
   "execution_count": 181,
   "id": "70399e36",
   "metadata": {},
   "outputs": [],
   "source": [
    "irisVir = (iris['Species']== 'Iris-virginica')\n"
   ]
  },
  {
   "cell_type": "code",
   "execution_count": 182,
   "id": "3f98e1ee",
   "metadata": {},
   "outputs": [
    {
     "name": "stdout",
     "output_type": "stream",
     "text": [
      "Iris-virginica\n",
      "              Id  SepalLengthCm  SepalWidthCm  PetalLengthCm  PetalWidthCm\n",
      "count   50.00000       50.00000     50.000000      50.000000      50.00000\n",
      "mean   125.50000        6.58800      2.974000       5.552000       2.02600\n",
      "std     14.57738        0.63588      0.322497       0.551895       0.27465\n",
      "min    101.00000        4.90000      2.200000       4.500000       1.40000\n",
      "25%    113.25000        6.22500      2.800000       5.100000       1.80000\n",
      "50%    125.50000        6.50000      3.000000       5.550000       2.00000\n",
      "75%    137.75000        6.90000      3.175000       5.875000       2.30000\n",
      "max    150.00000        7.90000      3.800000       6.900000       2.50000\n"
     ]
    }
   ],
   "source": [
    "print('Iris-virginica')\n",
    "print(iris[irisVir].describe())"
   ]
  },
  {
   "cell_type": "code",
   "execution_count": 183,
   "id": "aca14be0",
   "metadata": {},
   "outputs": [
    {
     "name": "stdout",
     "output_type": "stream",
     "text": [
      "count    150.000000\n",
      "mean       5.843333\n",
      "std        0.828066\n",
      "min        4.300000\n",
      "25%        5.100000\n",
      "50%        5.800000\n",
      "75%        6.400000\n",
      "max        7.900000\n",
      "Name: SepalLengthCm, dtype: float64\n",
      "count    150.000000\n",
      "mean       3.054000\n",
      "std        0.433594\n",
      "min        2.000000\n",
      "25%        2.800000\n",
      "50%        3.000000\n",
      "75%        3.300000\n",
      "max        4.400000\n",
      "Name: SepalWidthCm, dtype: float64\n",
      "count    150.000000\n",
      "mean       3.758667\n",
      "std        1.764420\n",
      "min        1.000000\n",
      "25%        1.600000\n",
      "50%        4.350000\n",
      "75%        5.100000\n",
      "max        6.900000\n",
      "Name: PetalLengthCm, dtype: float64\n",
      "count    150.000000\n",
      "mean       1.198667\n",
      "std        0.763161\n",
      "min        0.100000\n",
      "25%        0.300000\n",
      "50%        1.300000\n",
      "75%        1.800000\n",
      "max        2.500000\n",
      "Name: PetalWidthCm, dtype: float64\n"
     ]
    }
   ],
   "source": [
    "print(iris.SepalLengthCm.describe())\n",
    "print(iris.SepalWidthCm.describe())\n",
    "print(iris.PetalLengthCm.describe())\n",
    "print(iris.PetalWidthCm.describe())"
   ]
  },
  {
   "cell_type": "code",
   "execution_count": 184,
   "id": "e9a1552a",
   "metadata": {},
   "outputs": [
    {
     "name": "stdout",
     "output_type": "stream",
     "text": [
      "5.843333333333335\n",
      "3.0540000000000007\n",
      "3.7586666666666693\n",
      "1.1986666666666672\n"
     ]
    }
   ],
   "source": [
    "print(iris.SepalLengthCm.mean())\n",
    "print(iris.SepalWidthCm.mean())\n",
    "print(iris.PetalLengthCm.mean())\n",
    "print(iris.PetalWidthCm.mean())\n"
   ]
  },
  {
   "cell_type": "code",
   "execution_count": 185,
   "id": "fdfed303",
   "metadata": {},
   "outputs": [
    {
     "name": "stdout",
     "output_type": "stream",
     "text": [
      "5.8\n",
      "3.0\n",
      "4.35\n",
      "1.3\n"
     ]
    }
   ],
   "source": [
    " print(iris.SepalLengthCm.median())\n",
    "print(iris.SepalWidthCm.median())\n",
    "print(iris.PetalLengthCm.median())\n",
    "print(iris.PetalWidthCm.median())\n"
   ]
  },
  {
   "cell_type": "code",
   "execution_count": 207,
   "id": "2dce671f",
   "metadata": {},
   "outputs": [],
   "source": [
    "iris_numeric = iris.select_dtypes(include=['number'])\n",
    "iris_std = iris_numeric.std()\n",
    "\n"
   ]
  },
  {
   "cell_type": "code",
   "execution_count": 209,
   "id": "adb663ff",
   "metadata": {},
   "outputs": [
    {
     "data": {
      "text/plain": [
       "Id               43.445368\n",
       "SepalLengthCm     0.828066\n",
       "SepalWidthCm      0.433594\n",
       "PetalLengthCm     1.764420\n",
       "PetalWidthCm      0.763161\n",
       "dtype: float64"
      ]
     },
     "execution_count": 209,
     "metadata": {},
     "output_type": "execute_result"
    }
   ],
   "source": [
    "iris_std"
   ]
  },
  {
   "cell_type": "code",
   "execution_count": 187,
   "id": "79a21606",
   "metadata": {},
   "outputs": [
    {
     "name": "stdout",
     "output_type": "stream",
     "text": [
      "0.8280661279778629\n",
      "0.4335943113621737\n",
      "1.7644204199522617\n",
      "0.7631607417008414\n"
     ]
    }
   ],
   "source": [
    "print(iris.SepalLengthCm.std())\n",
    "print(iris.SepalWidthCm.std())\n",
    "print(iris.PetalLengthCm.std())\n",
    "print(iris.PetalWidthCm.std())"
   ]
  },
  {
   "cell_type": "code",
   "execution_count": 188,
   "id": "2bf229c6",
   "metadata": {},
   "outputs": [
    {
     "data": {
      "text/plain": [
       "Id                         1\n",
       "SepalLengthCm            4.3\n",
       "SepalWidthCm             2.0\n",
       "PetalLengthCm            1.0\n",
       "PetalWidthCm             0.1\n",
       "Species          Iris-setosa\n",
       "dtype: object"
      ]
     },
     "execution_count": 188,
     "metadata": {},
     "output_type": "execute_result"
    }
   ],
   "source": [
    "iris.min()"
   ]
  },
  {
   "cell_type": "code",
   "execution_count": 189,
   "id": "dec82e5b",
   "metadata": {},
   "outputs": [
    {
     "name": "stdout",
     "output_type": "stream",
     "text": [
      "4.3\n",
      "2.0\n",
      "1.0\n",
      "0.1\n"
     ]
    }
   ],
   "source": [
    "print(iris.SepalLengthCm.min())\n",
    "print(iris.SepalWidthCm.min())\n",
    "print(iris.PetalLengthCm.min())\n",
    "print(iris.PetalWidthCm.min())\n"
   ]
  },
  {
   "cell_type": "code",
   "execution_count": 190,
   "id": "72a9efd5",
   "metadata": {},
   "outputs": [
    {
     "data": {
      "text/plain": [
       "Id                          150\n",
       "SepalLengthCm               7.9\n",
       "SepalWidthCm                4.4\n",
       "PetalLengthCm               6.9\n",
       "PetalWidthCm                2.5\n",
       "Species          Iris-virginica\n",
       "dtype: object"
      ]
     },
     "execution_count": 190,
     "metadata": {},
     "output_type": "execute_result"
    }
   ],
   "source": [
    "iris.max()"
   ]
  },
  {
   "cell_type": "code",
   "execution_count": 191,
   "id": "abd41a9e",
   "metadata": {},
   "outputs": [
    {
     "name": "stdout",
     "output_type": "stream",
     "text": [
      "7.9\n",
      "4.4\n",
      "6.9\n",
      "2.5\n"
     ]
    }
   ],
   "source": [
    " print(iris.SepalLengthCm.max())\n",
    "print(iris.SepalWidthCm.max())\n",
    "print(iris.PetalLengthCm.max())\n",
    "print(iris.PetalWidthCm.max())"
   ]
  },
  {
   "cell_type": "code",
   "execution_count": 192,
   "id": "b2d753da",
   "metadata": {},
   "outputs": [
    {
     "name": "stdout",
     "output_type": "stream",
     "text": [
      "3.6000000000000005\n",
      "2.4000000000000004\n",
      "5.9\n"
     ]
    }
   ],
   "source": [
    " print(iris.SepalLengthCm.max()-iris.SepalLengthCm.min())\n",
    "print(iris.SepalWidthCm.max()-iris.SepalWidthCm.min())\n",
    "print(iris.PetalLengthCm.max()-iris.PetalLengthCm.min())\n"
   ]
  },
  {
   "cell_type": "code",
   "execution_count": 193,
   "id": "db1aaa99",
   "metadata": {},
   "outputs": [
    {
     "name": "stdout",
     "output_type": "stream",
     "text": [
      "2.4\n"
     ]
    }
   ],
   "source": [
    "print(iris.PetalWidthCm.max()-iris.PetalWidthCm.min())\n"
   ]
  },
  {
   "cell_type": "code",
   "execution_count": 194,
   "id": "e9863461",
   "metadata": {},
   "outputs": [
    {
     "name": "stderr",
     "output_type": "stream",
     "text": [
      "C:\\Users\\tusha\\AppData\\Local\\Temp/ipykernel_4388/1684580194.py:1: FutureWarning: Dropping of nuisance columns in DataFrame reductions (with 'numeric_only=None') is deprecated; in a future version this will raise TypeError.  Select only valid columns before calling the reduction.\n",
      "  iris.var()\n"
     ]
    },
    {
     "data": {
      "text/plain": [
       "Id               1887.500000\n",
       "SepalLengthCm       0.685694\n",
       "SepalWidthCm        0.188004\n",
       "PetalLengthCm       3.113179\n",
       "PetalWidthCm        0.582414\n",
       "dtype: float64"
      ]
     },
     "execution_count": 194,
     "metadata": {},
     "output_type": "execute_result"
    }
   ],
   "source": [
    "iris.var()\n"
   ]
  },
  {
   "cell_type": "code",
   "execution_count": 195,
   "id": "e49c6721",
   "metadata": {},
   "outputs": [
    {
     "name": "stderr",
     "output_type": "stream",
     "text": [
      "C:\\Users\\tusha\\AppData\\Local\\Temp/ipykernel_4388/3986049926.py:1: FutureWarning: Dropping of nuisance columns in DataFrame reductions (with 'numeric_only=None') is deprecated; in a future version this will raise TypeError.  Select only valid columns before calling the reduction.\n",
      "  iris.var(axis=1)\n"
     ]
    },
    {
     "data": {
      "text/plain": [
       "0         4.043\n",
       "1         3.140\n",
       "2         3.077\n",
       "3         3.287\n",
       "4         4.688\n",
       "         ...   \n",
       "145    4018.843\n",
       "146    4097.323\n",
       "147    4140.268\n",
       "148    4188.578\n",
       "149    4268.783\n",
       "Length: 150, dtype: float64"
      ]
     },
     "execution_count": 195,
     "metadata": {},
     "output_type": "execute_result"
    }
   ],
   "source": [
    " iris.var(axis=1)\n"
   ]
  },
  {
   "cell_type": "code",
   "execution_count": 196,
   "id": "12e5fd05",
   "metadata": {},
   "outputs": [
    {
     "name": "stdout",
     "output_type": "stream",
     "text": [
      "0.6856935123042505\n",
      "0.18800402684563763\n",
      "3.1131794183445156\n",
      "0.5824143176733784\n"
     ]
    }
   ],
   "source": [
    " print(iris.SepalLengthCm.var())\n",
    "print(iris.SepalWidthCm.var())\n",
    "print(iris.PetalLengthCm.var())\n",
    "print(iris.PetalWidthCm.var())\n",
    "\n"
   ]
  },
  {
   "cell_type": "code",
   "execution_count": 197,
   "id": "69c53823",
   "metadata": {},
   "outputs": [
    {
     "name": "stdout",
     "output_type": "stream",
     "text": [
      "5.1\n",
      "2.8\n",
      "1.6\n",
      "0.3\n"
     ]
    }
   ],
   "source": [
    "print(iris.SepalLengthCm.quantile(0.25))\n",
    "print(iris.SepalWidthCm.quantile(0.25))\n",
    "print(iris.PetalLengthCm.quantile(0.25))\n",
    "print(iris.PetalWidthCm.quantile(0.25))"
   ]
  },
  {
   "cell_type": "code",
   "execution_count": 198,
   "id": "a629763a",
   "metadata": {},
   "outputs": [
    {
     "name": "stdout",
     "output_type": "stream",
     "text": [
      "5.8\n",
      "3.0\n",
      "4.35\n",
      "1.3\n"
     ]
    }
   ],
   "source": [
    " print(iris.SepalLengthCm.quantile(0.50))\n",
    "print(iris.SepalWidthCm.quantile(0.50))\n",
    "print(iris.PetalLengthCm.quantile(0.50))\n",
    "print(iris.PetalWidthCm.quantile(0.50))"
   ]
  },
  {
   "cell_type": "code",
   "execution_count": 199,
   "id": "808613b7",
   "metadata": {},
   "outputs": [
    {
     "name": "stdout",
     "output_type": "stream",
     "text": [
      "6.4\n",
      "3.3\n",
      "5.1\n",
      "1.8\n"
     ]
    }
   ],
   "source": [
    " print(iris.SepalLengthCm.quantile(0.75))\n",
    "print(iris.SepalWidthCm.quantile(0.75))\n",
    "print(iris.PetalLengthCm.quantile(0.75))\n",
    "print(iris.PetalWidthCm.quantile(0.75))\n"
   ]
  },
  {
   "cell_type": "code",
   "execution_count": 200,
   "id": "db5ffdaf",
   "metadata": {},
   "outputs": [
    {
     "name": "stdout",
     "output_type": "stream",
     "text": [
      "0.3149109566369728\n",
      "0.3340526621720866\n",
      "-0.27446425247378287\n",
      "-0.10499656214412734\n"
     ]
    }
   ],
   "source": [
    " print(iris.SepalLengthCm.skew())\n",
    "print(iris.SepalWidthCm.skew())\n",
    "print(iris.PetalLengthCm.skew())\n",
    "print(iris.PetalWidthCm.skew())"
   ]
  },
  {
   "cell_type": "code",
   "execution_count": 202,
   "id": "e913e55f",
   "metadata": {},
   "outputs": [
    {
     "name": "stdout",
     "output_type": "stream",
     "text": [
      "0.1569922927743274\n"
     ]
    }
   ],
   "source": [
    " print((3*(iris.SepalLengthCm.mean()-iris.SepalLengthCm.median()))/(iris.\n",
    "SepalLengthCm.std()))\n"
   ]
  },
  {
   "cell_type": "code",
   "execution_count": 203,
   "id": "0a3d9528",
   "metadata": {},
   "outputs": [
    {
     "name": "stdout",
     "output_type": "stream",
     "text": [
      "0        Iris-setosa\n",
      "1    Iris-versicolor\n",
      "2     Iris-virginica\n",
      "dtype: object\n"
     ]
    }
   ],
   "source": [
    "print(iris.Species.mode())"
   ]
  },
  {
   "cell_type": "code",
   "execution_count": 204,
   "id": "95c4db9a",
   "metadata": {},
   "outputs": [
    {
     "name": "stdout",
     "output_type": "stream",
     "text": [
      "0    5.0\n",
      "dtype: float64\n"
     ]
    }
   ],
   "source": [
    "print(iris.SepalLengthCm.mode())\n"
   ]
  }
 ],
 "metadata": {
  "kernelspec": {
   "display_name": "Python 3 (ipykernel)",
   "language": "python",
   "name": "python3"
  },
  "language_info": {
   "codemirror_mode": {
    "name": "ipython",
    "version": 3
   },
   "file_extension": ".py",
   "mimetype": "text/x-python",
   "name": "python",
   "nbconvert_exporter": "python",
   "pygments_lexer": "ipython3",
   "version": "3.9.7"
  }
 },
 "nbformat": 4,
 "nbformat_minor": 5
}
